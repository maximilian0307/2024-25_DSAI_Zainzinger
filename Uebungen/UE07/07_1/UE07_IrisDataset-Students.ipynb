{
 "cells": [
  {
   "cell_type": "markdown",
   "metadata": {},
   "source": [
    "# UE7 - Pandas Datenaufbereitung am Beispiel Iris Dataset\n",
    "\n",
    "Diese Abschnitt beschäftigt sich schwerpunktmäßig mit den Pandas-Methoden `map()`, `apply()` und `applymap()`. \n",
    "\n",
    "Als Übungsgrundlage dient das *Iris Data Set* (Quelle: https://archive.ics.uci.edu/ml/datasets/Iris). Hierbei handelt es sich um einen Datensatz, der drei Irisarten (Iris setosa, Iris virginica und Iris versicolor) - also Blütenblätter - unterscheidet."
   ]
  },
  {
   "cell_type": "code",
   "metadata": {
    "jupyter": {
     "is_executing": true
    }
   },
   "source": [
    "import pandas as pd\n",
    "from sklearn.datasets import load_iris\n"
   ],
   "outputs": [],
   "execution_count": null
  },
  {
   "cell_type": "markdown",
   "metadata": {},
   "source": [
    "## 7.1 - Iris Dataset laden\n",
    "Laden Sie das Iris Dataset aus dem *Scikit Learn*-Paket (kurz Sklearn) in die Variable `iris`. Hierzu stellt Sklearn mit `load_iris()` eine Methode bereit. Begründen Sie, warum a) `iris.shape` dem Interprete nicht schmeckt?\n",
    "\n",
    "Nehmen Sie b) das Dokument *Some notes to the iris dataset* (siehe htl.boxtree.at/lehre) durch und probieren Sie sich an der Variable `iris`."
   ]
  },
  {
   "cell_type": "code",
   "execution_count": 5,
   "metadata": {},
   "outputs": [],
   "source": [
    "iris = load_iris()\n",
    "#a\n",
    "#iris hat kein shape Attribut, das es ein Dictionary-ähnliches Objekt ist\n",
    "#b\n"
   ]
  },
  {
   "cell_type": "markdown",
   "metadata": {},
   "source": [
    "## 7.2 - DataFrame erstellen und Datengrundlage analysieren\n",
    "\n",
    "Erstellen Sie a) das DataFrame `features_df` und geben Sie die ersten 5 Zeilen aus. Gefordert ist folgender Aufbau:\n",
    "\n",
    "```Python\n",
    "       sepal length (cm) \tsepal width (cm) \tpetal length (cm) \tpetal width (cm)\n",
    "    0 \t   5.1 \t                 3.5 \t              1.4 \t             0.2\n",
    "    1 \t   4.9 \t                 3.0 \t              1.4 \t             0.2\n",
    "    2 \t   4.7 \t                 3.2 \t              1.3 \t             0.2\n",
    "    3 \t   4.6 \t                 3.1 \t              1.5 \t             0.2\n",
    "    4 \t   5.0 \t                 3.6 \t              1.4 \t             0.2\n",
    "```"
   ]
  },
  {
   "cell_type": "code",
   "execution_count": 7,
   "metadata": {},
   "outputs": [
    {
     "name": "stdout",
     "output_type": "stream",
     "text": [
      "   sepal length (cm)  sepal width (cm)  petal length (cm)  petal width (cm)\n",
      "0                5.1               3.5                1.4               0.2\n",
      "1                4.9               3.0                1.4               0.2\n",
      "2                4.7               3.2                1.3               0.2\n",
      "3                4.6               3.1                1.5               0.2\n",
      "4                5.0               3.6                1.4               0.2\n"
     ]
    }
   ],
   "source": [
    "#a) DataFrame erstellen\n",
    "features_df = pd.DataFrame(iris['data'], columns=iris['feature_names'])\n",
    "print(features_df.head())"
   ]
  },
  {
   "cell_type": "markdown",
   "metadata": {},
   "source": [
    "Fügen Sie b) dem DataFrame `features_df` die Spalte *Species* hinzu und erstellen Sie ein neues DataFrame mit dem Namen `iris_df`. Das gesuchte Ergebnis:\n",
    "\n",
    "```Python\n",
    "       sepal length (cm) \tsepal width (cm) \tpetal length (cm) \tpetal width (cm)       Species\n",
    "    0 \t   5.1 \t                 3.5 \t              1.4 \t             0.2               0\n",
    "    1 \t   4.9 \t                 3.0 \t              1.4 \t             0.2               0\n",
    "    2 \t   4.7 \t                 3.2 \t              1.3 \t             0.2               0\n",
    "    3 \t   4.6 \t                 3.1 \t              1.5 \t             0.2               0\n",
    "    4 \t   5.0 \t                 3.6 \t              1.4 \t             0.2               0\n",
    "```\n",
    "\n"
   ]
  },
  {
   "cell_type": "code",
   "execution_count": 9,
   "metadata": {},
   "outputs": [
    {
     "name": "stdout",
     "output_type": "stream",
     "text": [
      "   sepal length (cm)  sepal width (cm)  petal length (cm)  petal width (cm)  \\\n",
      "0                5.1               3.5                1.4               0.2   \n",
      "1                4.9               3.0                1.4               0.2   \n",
      "2                4.7               3.2                1.3               0.2   \n",
      "3                4.6               3.1                1.5               0.2   \n",
      "4                5.0               3.6                1.4               0.2   \n",
      "\n",
      "   Species  \n",
      "0        0  \n",
      "1        0  \n",
      "2        0  \n",
      "3        0  \n",
      "4        0  \n"
     ]
    }
   ],
   "source": [
    "#b) Spalte 'Species' hinzufügen\n",
    "iris_df = features_df.copy()\n",
    "iris_df['Species'] = iris['target']\n",
    "print(iris_df.head())"
   ]
  },
  {
   "cell_type": "markdown",
   "metadata": {},
   "source": [
    "c) Verschaffen Sie sich einen Überblick, indem Sie folgende Fragen beantworten, und zwar auf Code-Ebene:\n",
    "\n",
    "- Über wie viele Zeilen verfügt das DataFrame `iris_df`?\n",
    "- Wie viele unterschiedliche Arten (Species) gibt es und wie viele umfasst die jeweilige Art?\n",
    "- Wie viele Zellen weisen `nan` auf?\n",
    "- Beurteilen Sie, ob die Mittelwertbildung der Spalte 'Species' Sinn ergibt.\n",
    "- Finden Sie heraus, ob eine Korrelation zwischen einzelnen Features (Sepal length,..., Petal width) besteht."
   ]
  },
  {
   "cell_type": "code",
   "execution_count": 27,
   "metadata": {},
   "outputs": [
    {
     "name": "stdout",
     "output_type": "stream",
     "text": [
      "Zeilen: 150\n",
      "------------------------------------\n",
      "Species\n",
      "0    50\n",
      "1    50\n",
      "2    50\n",
      "Name: count, dtype: int64\n",
      "------------------------------------\n",
      "NaN-Werte: 0\n",
      "---------------------------------------\n",
      "Mittelwert: 1.0\n",
      "-----------------------------------------\n",
      "                   sepal length (cm)  sepal width (cm)  petal length (cm)  \\\n",
      "sepal length (cm)           1.000000         -0.117570           0.871754   \n",
      "sepal width (cm)           -0.117570          1.000000          -0.428440   \n",
      "petal length (cm)           0.871754         -0.428440           1.000000   \n",
      "petal width (cm)            0.817941         -0.366126           0.962865   \n",
      "Species                     0.782561         -0.426658           0.949035   \n",
      "\n",
      "                   petal width (cm)   Species  \n",
      "sepal length (cm)          0.817941  0.782561  \n",
      "sepal width (cm)          -0.366126 -0.426658  \n",
      "petal length (cm)          0.962865  0.949035  \n",
      "petal width (cm)           1.000000  0.956547  \n",
      "Species                    0.956547  1.000000  \n"
     ]
    }
   ],
   "source": [
    "# Frage 1:\n",
    "print(f\"Zeilen: {iris_df.shape[0]}\")\n",
    "print(\"------------------------------------\")\n",
    "# Frage 2:\n",
    "print(iris_df['Species'].value_counts())\n",
    "print(\"------------------------------------\")\n",
    "# Frage 3:\n",
    "print(f\"NaN-Werte: {iris_df.isna().sum().sum()}\")\n",
    "print(\"---------------------------------------\")\n",
    "# Frage 4: (naja ergibt nicht unbedingt einen Sinn)\n",
    "print(f\"Mittelwert: {iris_df['Species'].mean()}\")\n",
    "print(\"-----------------------------------------\")\n",
    "# Frage 5:\n",
    "print(iris_df.corr())"
   ]
  },
  {
   "cell_type": "markdown",
   "metadata": {},
   "source": [
    "## 7.3 - apply, applymap und map\n",
    "\n",
    "Arbeiten Sie das Tutorial https://towardsdatascience.com/introduction-to-pandas-apply-applymap-and-map-5d3e044e93ff  durch. Abgabe der Code-Beispiele ist nicht notwendig."
   ]
  },
  {
   "cell_type": "code",
   "execution_count": null,
   "metadata": {},
   "outputs": [],
   "source": [
    "# Playground..."
   ]
  },
  {
   "cell_type": "markdown",
   "metadata": {},
   "source": [
    "## 7.4 Data preparation with apply, applymap or map\n",
    "\n",
    "Überschreiben Sie a) die Spalte *Species*, wobei folgende Zuordnung gilt:\n",
    "\n",
    "- 0 => SET\n",
    "- 1 => VER\n",
    "- 2 => VIR\n",
    "\n",
    "Gesuchte Ergebnis:\n",
    "```Python\n",
    "       sepal length (cm) \tsepal width (cm) \tpetal length (cm) \tpetal width (cm)       Species\n",
    "    0 \t   5.1 \t                 3.5 \t              1.4 \t             0.2               SET\n",
    "    1 \t   4.9 \t                 3.0 \t              1.4 \t             0.2               SET\n",
    "    2 \t   4.7 \t                 3.2 \t              1.3 \t             0.2               SET\n",
    "    3 \t   4.6 \t                 3.1 \t              1.5 \t             0.2               SET\n",
    "    4 \t   5.0 \t                 3.6 \t              1.4 \t             0.2               SET\n",
    "```"
   ]
  },
  {
   "cell_type": "code",
   "execution_count": 29,
   "metadata": {},
   "outputs": [
    {
     "name": "stdout",
     "output_type": "stream",
     "text": [
      "   sepal length (cm)  sepal width (cm)  petal length (cm)  petal width (cm)  \\\n",
      "0                5.1               3.5                1.4               0.2   \n",
      "1                4.9               3.0                1.4               0.2   \n",
      "2                4.7               3.2                1.3               0.2   \n",
      "3                4.6               3.1                1.5               0.2   \n",
      "4                5.0               3.6                1.4               0.2   \n",
      "\n",
      "  Species  \n",
      "0     SET  \n",
      "1     SET  \n",
      "2     SET  \n",
      "3     SET  \n",
      "4     SET  \n"
     ]
    }
   ],
   "source": [
    "#a) Species-Spalte umbenennen\n",
    "species_map = {0: 'SET', 1: 'VER', 2: 'VIR'}\n",
    "iris_df['Species'] = iris_df['Species'].map(species_map)\n",
    "print(iris_df.head())"
   ]
  },
  {
   "cell_type": "markdown",
   "metadata": {},
   "source": [
    "Erstellen Sie b) die neue Spalte `wide petal`, die das Ergebnis folgender Bedingung enhält:\n",
    "\n",
    "Wenn `petal width (cm) >= 1.3` ist, dann soll die Zelle der jeweiligen Zeile den Wert 1 aufweisen, sonst 0. Setzen Sie eine `lambda`-Expression ein."
   ]
  },
  {
   "cell_type": "code",
   "execution_count": 33,
   "metadata": {},
   "outputs": [
    {
     "name": "stdout",
     "output_type": "stream",
     "text": [
      "   petal width (cm)  wide petal\n",
      "0               0.2           0\n",
      "1               0.2           0\n",
      "2               0.2           0\n",
      "3               0.2           0\n",
      "4               0.2           0\n"
     ]
    }
   ],
   "source": [
    "#b) Neue Spalte 'wide patal' it einer Lambda-Expression\n",
    "iris_df['wide petal'] = iris_df['petal width (cm)'].apply(lambda x: 1 if x >= 1.3 else 0)\n",
    "print(iris_df[['petal width (cm)', 'wide petal']].head())"
   ]
  },
  {
   "cell_type": "markdown",
   "metadata": {},
   "source": [
    "Ermitteln Sie c) die *petal area* (Petal-Fläche) und speichern Sie diese in der neu zu erstellenden Spalte *petal area*. Setzen Sie eine `lambda`-Expression ein. "
   ]
  },
  {
   "cell_type": "code",
   "execution_count": 35,
   "metadata": {},
   "outputs": [
    {
     "name": "stdout",
     "output_type": "stream",
     "text": [
      "   sepal length (cm)  sepal width (cm)  petal length (cm)  petal width (cm)  \\\n",
      "0                5.1               3.5                1.4               0.2   \n",
      "1                4.9               3.0                1.4               0.2   \n",
      "2                4.7               3.2                1.3               0.2   \n",
      "3                4.6               3.1                1.5               0.2   \n",
      "4                5.0               3.6                1.4               0.2   \n",
      "\n",
      "  Species  wide petal  petal area  \n",
      "0     SET           0        0.28  \n",
      "1     SET           0        0.28  \n",
      "2     SET           0        0.26  \n",
      "3     SET           0        0.30  \n",
      "4     SET           0        0.28  \n"
     ]
    }
   ],
   "source": [
    "#c) Neue Spalte 'petal area' mit Lambda-Funktion\n",
    "iris_df['petal area'] = iris_df.apply(lambda row: row['petal length (cm)'] * row['petal width (cm)'], axis=1)\n",
    "print(iris_df.head())"
   ]
  }
 ],
 "metadata": {
  "kernelspec": {
   "display_name": "Python 3 (ipykernel)",
   "language": "python",
   "name": "python3"
  },
  "language_info": {
   "codemirror_mode": {
    "name": "ipython",
    "version": 3
   },
   "file_extension": ".py",
   "mimetype": "text/x-python",
   "name": "python",
   "nbconvert_exporter": "python",
   "pygments_lexer": "ipython3",
   "version": "3.12.4"
  }
 },
 "nbformat": 4,
 "nbformat_minor": 4
}
