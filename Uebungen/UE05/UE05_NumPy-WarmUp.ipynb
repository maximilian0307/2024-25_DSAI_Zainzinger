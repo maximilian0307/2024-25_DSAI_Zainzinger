{
 "cells": [
  {
   "cell_type": "markdown",
   "id": "2aa2a242",
   "metadata": {},
   "source": [
    "# Zum Aufwärmen\n",
    "\n",
    "Erstellen Sie **a)** ein NumPy-Array mit folgendem Inhalt:\n",
    "\n",
    "````python\n",
    "array([1, 2, 3, 4, 5, 6, 7, 8, 9])\n",
    "````"
   ]
  },
  {
   "cell_type": "code",
   "execution_count": 2,
   "id": "5b4f9935",
   "metadata": {},
   "outputs": [],
   "source": [
    "import numpy as np"
   ]
  },
  {
   "cell_type": "code",
   "execution_count": 4,
   "id": "0bc8870e-3a4a-4c9e-9463-94c7afdab6fc",
   "metadata": {},
   "outputs": [],
   "source": [
    "array = np.array([1,2,3,4,5,6,7,8,9])"
   ]
  },
  {
   "cell_type": "markdown",
   "id": "23042df4",
   "metadata": {},
   "source": [
    "**b)** Ändern Sie die Gestalt des Arrays in eine 3x6-Matrix, sodass das Ergebnis so aussieht:\n",
    "    \n",
    "````python\n",
    "array([[ 1,  2,  3,  4,  5,  6],\n",
    "       [ 7,  8,  9, 10, 11, 12],\n",
    "       [13, 14, 15, 16, 17, 18]])\n",
    "````\n",
    "**Hinweis**: Schneiden Sie das Array so zu, dass es für eine 3x6-Gestalt passt."
   ]
  },
  {
   "cell_type": "code",
   "execution_count": 14,
   "id": "d32d82ba",
   "metadata": {},
   "outputs": [
    {
     "name": "stdout",
     "output_type": "stream",
     "text": [
      "[[ 1  2  3  4  5  6]\n",
      " [ 7  8  9 10 11 12]\n",
      " [13 14 15 16 17 18]]\n"
     ]
    }
   ],
   "source": [
    "extended_array = np.arange(1, 19) \n",
    "matrix = extended_array.reshape(3, 6)\n",
    "print(matrix)\n"
   ]
  },
  {
   "cell_type": "markdown",
   "id": "fff94079",
   "metadata": {},
   "source": [
    "**c)** Zeigen Sie, dass die Shape `(3, 6)` ist."
   ]
  },
  {
   "cell_type": "code",
   "execution_count": 20,
   "id": "7b281f4e",
   "metadata": {},
   "outputs": [
    {
     "name": "stdout",
     "output_type": "stream",
     "text": [
      "(3, 6)\n"
     ]
    }
   ],
   "source": [
    "print(matrix.shape)"
   ]
  },
  {
   "cell_type": "markdown",
   "id": "805bc7a6",
   "metadata": {},
   "source": [
    "**d)** Berechnen Sie die Summe jeder Spalte. Das Ergebnis sollte ein Array mit sechs Werten sein:\n",
    "\n",
    "````python\n",
    "array([21, 24, 27, 30, 33, 36])\n",
    "````\n",
    "\n",
    "**Hinweis**: `axis` is your friend!"
   ]
  },
  {
   "cell_type": "code",
   "execution_count": 24,
   "id": "2d7d4f69",
   "metadata": {},
   "outputs": [
    {
     "name": "stdout",
     "output_type": "stream",
     "text": [
      "[21 24 27 30 33 36]\n"
     ]
    }
   ],
   "source": [
    "sum = matrix.sum(axis=0)\n",
    "print(sum)"
   ]
  },
  {
   "cell_type": "markdown",
   "id": "5f5350f6",
   "metadata": {},
   "source": [
    "**e)** Erstellen Sie aus dem ursprünglichen Array ein 3D-Array. Schneiden Sie dafür ggf. Werte weg. Das Ergebnis sollte so aussehen:\n",
    "\n",
    "````python\n",
    "array([[[ 1,  2,  3],\n",
    "        [ 4,  5,  6]],\n",
    "       \n",
    "       [[ 7,  8,  9],\n",
    "        [10, 11, 12]],\n",
    "       \n",
    "       [[13, 14, 15],\n",
    "        [16, 17, 18]]])\n",
    "````"
   ]
  },
  {
   "cell_type": "code",
   "execution_count": 28,
   "id": "fd759ac9",
   "metadata": {},
   "outputs": [
    {
     "name": "stdout",
     "output_type": "stream",
     "text": [
      "[[[ 1  2  3]\n",
      "  [ 4  5  6]]\n",
      "\n",
      " [[ 7  8  9]\n",
      "  [10 11 12]]\n",
      "\n",
      " [[13 14 15]\n",
      "  [16 17 18]]]\n"
     ]
    }
   ],
   "source": [
    "array_3d = extended_array.reshape(3,2,3)\n",
    "print(array_3d)"
   ]
  },
  {
   "cell_type": "code",
   "execution_count": null,
   "id": "9a7ce52e-f78e-4cf7-9c6d-16d45dad4361",
   "metadata": {},
   "outputs": [],
   "source": []
  }
 ],
 "metadata": {
  "kernelspec": {
   "display_name": "Python 3 (ipykernel)",
   "language": "python",
   "name": "python3"
  },
  "language_info": {
   "codemirror_mode": {
    "name": "ipython",
    "version": 3
   },
   "file_extension": ".py",
   "mimetype": "text/x-python",
   "name": "python",
   "nbconvert_exporter": "python",
   "pygments_lexer": "ipython3",
   "version": "3.12.4"
  }
 },
 "nbformat": 4,
 "nbformat_minor": 5
}
