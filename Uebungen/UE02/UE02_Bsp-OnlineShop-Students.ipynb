{
 "cells": [
  {
   "cell_type": "markdown",
   "id": "2a97cea1",
   "metadata": {},
   "source": [
    "## Berechnung der Versandkosten\n",
    "\n",
    "Sie wurden mit der Umsetzung eines Online-Shops betraut. In der Variable `subtotal` (Zwischensumme) ist die Gesamtsumme aller gekauften Artikel gespeichert. Die Versandkosten betragen **7,90 Euro**. Ab einem Einkaufswert von **mindestens 50 Euro** entfallen die Versandkosten.\n",
    "\n",
    "Schreiben Sie ein Programm, das die Versandkosten zum Warenpreis hinzufügt und den (neuen) Gesamtpreis berechnet und in weiterer Folge ausgibt. Zusätzlich soll das Programm, falls zutreffend, anzeigen, wie viel Geld noch ausgegeben werden muss, um eine versandkostenfreie Lieferung zu erhalten.\n",
    "\n",
    "**Hinweis**: Die Funktion `round()` kann mit einem zweiten Parameter verwendet werden, um die Anzahl der Dezimalstellen festzulegen. Zum Beispiel ergibt `round(1.2934, 2)` den Wert 1,29. Dies ist bei der Ausgabe von Geldbeträgen hilfreich.\n",
    "\n",
    "**Beispielausgaben**:\n",
    "- Wenn `subtotal < 50` (z.B. 45.50€): *Wenn Sie weitere Waren im Wert von 4.5 Euro einkaufen, erfolgt der Versand kostenfrei. Gesamtpreis: 53.4 Euro*\n",
    "- Wenn `subtotal >= 50` (z.B. 52€): *Gesamtpreis: 52 Euro* "
   ]
  },
  {
   "cell_type": "code",
   "execution_count": 2,
   "id": "96b7cb0f",
   "metadata": {},
   "outputs": [],
   "source": [
    "subtotal = 45.5     # Der Betrag ist beliebig gewählt\n"
   ]
  }
 ],
 "metadata": {
  "kernelspec": {
   "display_name": "Python 3 (ipykernel)",
   "language": "python",
   "name": "python3"
  },
  "language_info": {
   "codemirror_mode": {
    "name": "ipython",
    "version": 3
   },
   "file_extension": ".py",
   "mimetype": "text/x-python",
   "name": "python",
   "nbconvert_exporter": "python",
   "pygments_lexer": "ipython3",
   "version": "3.11.5"
  }
 },
 "nbformat": 4,
 "nbformat_minor": 5
}
