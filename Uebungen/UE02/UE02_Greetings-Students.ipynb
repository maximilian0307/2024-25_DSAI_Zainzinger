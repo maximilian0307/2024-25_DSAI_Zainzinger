{
 "cells": [
  {
   "cell_type": "markdown",
   "id": "5553ba91",
   "metadata": {},
   "source": [
    "## Manipulation von Listen\n"
   ]
  },
  {
   "cell_type": "markdown",
   "id": "280d8a7c",
   "metadata": {},
   "source": [
    "Gegeben ist die Liste `names`. Generieren Sie eine Begrüßung für alle Teilnehmer:innen, deren Name mit einem **M** beginnt. Legen Sie diese in der noch zuerstellenden Liste `greetings` ab. Gesuchtes Ergebnis:\n",
    "\n",
    "````python\n",
    "['Hallo Max', 'Hallo Monika']\n",
    "````"
   ]
  },
  {
   "cell_type": "code",
   "execution_count": 1,
   "id": "84532a45",
   "metadata": {},
   "outputs": [],
   "source": [
    "names = ['Max', \"Michaela\", \"Claudia\"]"
   ]
  }
 ],
 "metadata": {
  "kernelspec": {
   "display_name": "Python 3 (ipykernel)",
   "language": "python",
   "name": "python3"
  },
  "language_info": {
   "codemirror_mode": {
    "name": "ipython",
    "version": 3
   },
   "file_extension": ".py",
   "mimetype": "text/x-python",
   "name": "python",
   "nbconvert_exporter": "python",
   "pygments_lexer": "ipython3",
   "version": "3.11.5"
  }
 },
 "nbformat": 4,
 "nbformat_minor": 5
}
