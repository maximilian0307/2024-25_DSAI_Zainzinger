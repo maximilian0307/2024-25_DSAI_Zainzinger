{
 "cells": [
  {
   "cell_type": "markdown",
   "id": "ec9c8e46",
   "metadata": {},
   "source": [
    "# UE02 Python Einführung I - Aufgaben\n",
    "Arbeiten Sie nachfolgenden Aufgabenstellungen durch und geben Sie das Notebook via Repo (im entsprechenden Ordner) ab."
   ]
  },
  {
   "cell_type": "markdown",
   "id": "05bf5963-55d5-48f3-a31b-9044083d19f7",
   "metadata": {},
   "source": [
    "## Variablen, Strings und String-Operationen\n",
    "### Task 2.1\n",
    "Macht es einen Unterschied, ob man einfache oder doppelte Anführungsstriche verwendet? Erzeugen Sie mit <code>print(...)</code> folgende Ausgabe : **Now, I'm able to use 'print'!**"
   ]
  },
  {
   "cell_type": "code",
   "execution_count": 4,
   "id": "8f87a510-77ee-4743-8e5d-f1e067dbdbe4",
   "metadata": {
    "tags": []
   },
   "outputs": [
    {
     "name": "stdout",
     "output_type": "stream",
     "text": [
      "Now, I'm able to use 'print'!\n"
     ]
    }
   ],
   "source": [
    "#Nein es macht keinen Unterschied\n",
    "print(\"Now, I'm able to use 'print'!\")"
   ]
  },
  {
   "cell_type": "markdown",
   "id": "c8133d3d",
   "metadata": {},
   "source": [
    "### Task 2.2\n",
    "Definiere drei Variablen, die deinen Namen, dein Alter und deinen Lieblingssport speichern. Gib dann alle Variablen in einer einzigen `print()`-Anweisung aus. gesuchtes Ergebnis:\n",
    "\n",
    "```python\n",
    "Name: Joe, Alter: 22, Sport: Tennis\n",
    "```"
   ]
  },
  {
   "cell_type": "code",
   "execution_count": 6,
   "id": "bcfcb3c2",
   "metadata": {
    "tags": []
   },
   "outputs": [
    {
     "name": "stdout",
     "output_type": "stream",
     "text": [
      "Name: Niklas, Alter: 18, Sport: Fußball\n"
     ]
    }
   ],
   "source": [
    "name = \"Niklas\"\n",
    "alter = 18\n",
    "sport = \"Fußball\"\n",
    "print(f\"Name: {name}, Alter: {alter}, Sport: {sport}\")\n",
    "#f in das print damit man auf die Variablen zugreifen kann"
   ]
  },
  {
   "cell_type": "markdown",
   "id": "b463c29c-68d8-4d5f-b2d2-670261de0240",
   "metadata": {},
   "source": [
    "### Task 2.3\n",
    "Nehmen Sie https://docs.python.org/3.8/tutorial/introduction.html#strings durch, und zwar ab \"*Strings can be indexed...*\". Als Bearbeitungsgrundlage dient der Text in <code>show</code>:\n",
    "1. Geben Sie den zweiten Buchstaben der Zeichenkette aus\n",
    "2. Geben Sie das Wort **eating** aus\n",
    "3. Geben Sie alles nach **Software** aus\n",
    "4. Geben Sie alles vor **the** aus\n",
    "5. Geben Sie die letzten 3 Buchstaben der Zeichenkette aus"
   ]
  },
  {
   "cell_type": "code",
   "execution_count": 12,
   "id": "4e41acec-ba44-498c-badf-d35d1ff636d1",
   "metadata": {
    "tags": []
   },
   "outputs": [
    {
     "name": "stdout",
     "output_type": "stream",
     "text": [
      "o\n",
      "eating\n",
      " is eating the world!\n",
      "Software is eating \n",
      "ld!\n"
     ]
    }
   ],
   "source": [
    "show = \"Software is eating the world!\"\n",
    "\n",
    "#Ausgabe 2 Buchstabe der Zeichenkette\n",
    "print(show[1])\n",
    "\n",
    "#Wort eating ausgeben\n",
    "print(show[12:18])\n",
    "#Alles nach Software\n",
    "print(show[show.index(\"Software\") + len(\"Software\"):])\n",
    "#Geben Sie alles vor the aus\n",
    "print(show[:show.index(\"the\")])\n",
    "#Geben Sie die letzten 3 Buchstaben der Zeichenkette aus\n",
    "print(show[-3:])"
   ]
  },
  {
   "cell_type": "markdown",
   "id": "8008b946",
   "metadata": {},
   "source": [
    "## Mathematische Operationen\n",
    "### Task 2.4\n",
    "Berechne den Umfang eines Rechtecks. Speichere die Länge und Breite in zwei Variablen und berechne dann den Umfang. Gib das Ergebnis aus. Gesuchtes Ergebnis; wobei für den Umfang beliebige werte gewählt werden können:\n",
    "````python\n",
    "Der Umfang des Rechtecks beträgt: 30\n",
    "````"
   ]
  },
  {
   "cell_type": "code",
   "execution_count": 16,
   "id": "7e7aca2e",
   "metadata": {
    "tags": []
   },
   "outputs": [
    {
     "name": "stdout",
     "output_type": "stream",
     "text": [
      "Der Umfang beträgt: 30\n"
     ]
    }
   ],
   "source": [
    "length = 10\n",
    "width = 5\n",
    "umfang = 2 * (length + width)\n",
    "print(f\"Der Umfang beträgt: {umfang}\")"
   ]
  },
  {
   "cell_type": "markdown",
   "id": "41405e5c",
   "metadata": {},
   "source": [
    "### Task 2.5"
   ]
  },
  {
   "cell_type": "markdown",
   "id": "40a2051c",
   "metadata": {},
   "source": [
    "Schreibe jenen Code, der die Quadrate von drei Zahlen (siehe `a`, `b` und `c`) errechnet und in `sum_of_squares` speichert. Exemplarisches Ergebnis:\n",
    "```python\n",
    "Die Summe der Quadrate von 2, 3 und 4 beträgt: 29\n",
    "```"
   ]
  },
  {
   "cell_type": "code",
   "execution_count": 2,
   "id": "49c703d0",
   "metadata": {
    "tags": []
   },
   "outputs": [
    {
     "name": "stdout",
     "output_type": "stream",
     "text": [
      "Summe: 18\n"
     ]
    }
   ],
   "source": [
    "a = 2\n",
    "b = 3\n",
    "c = 4\n",
    "sum_of_squares = a**2 + b**2 + c**2\n",
    "print(f\"Summe: {sum_of_squares}\")"
   ]
  },
  {
   "cell_type": "markdown",
   "id": "51d8ba58",
   "metadata": {},
   "source": [
    "## Control Flow - Conditional Statements\n",
    "### Task 2.6"
   ]
  },
  {
   "cell_type": "markdown",
   "id": "62517622",
   "metadata": {},
   "source": [
    "Schreibe ein Programm, das überprüft, ob eine Zahl gerade oder ungerade ist. Verwende eine If-Bedingung, um die Ausgabe entsprechend zu gestalten."
   ]
  },
  {
   "cell_type": "code",
   "execution_count": 34,
   "id": "c73587e8",
   "metadata": {},
   "outputs": [
    {
     "name": "stdin",
     "output_type": "stream",
     "text": [
      "Gib eine Zahl ein 3\n"
     ]
    },
    {
     "name": "stdout",
     "output_type": "stream",
     "text": [
      "DIe Zahl ist ungerade\n"
     ]
    }
   ],
   "source": [
    "zahl = int(input(\"Gib eine Zahl ein\"))\n",
    "if zahl % 2 == 0:\n",
    "    print(\"Die Zahl ist gerade\")\n",
    "else:\n",
    "    print(\"Die Zahl ist ungerade\")"
   ]
  },
  {
   "cell_type": "markdown",
   "id": "95b28a4d",
   "metadata": {},
   "source": [
    "### Task 2.7\n",
    "Schreibe ein Programm, das überprüft, ob eine gegebene Zahl positiv, negativ oder null ist."
   ]
  },
  {
   "cell_type": "code",
   "execution_count": 84,
   "id": "9a4096da",
   "metadata": {},
   "outputs": [
    {
     "name": "stdin",
     "output_type": "stream",
     "text": [
      "Gib eine Zahl ein:  -2\n"
     ]
    },
    {
     "name": "stdout",
     "output_type": "stream",
     "text": [
      "Die Zahl ist negativ.\n"
     ]
    }
   ],
   "source": [
    "zahl = int(input(\"Gib eine Zahl ein: \"))\n",
    "if zahl > 0:\n",
    "    print(\"Die Zahl ist positiv.\")\n",
    "elif zahl < 0:\n",
    "    print(\"Die Zahl ist negativ.\")\n",
    "else:\n",
    "    print(\"Die Zahl ist null.\")"
   ]
  },
  {
   "cell_type": "markdown",
   "id": "9bad5124",
   "metadata": {},
   "source": [
    "### Task 2.8"
   ]
  },
  {
   "cell_type": "markdown",
   "id": "872afc50",
   "metadata": {},
   "source": [
    "Schreibe jenen Code, der den Benutzer nach zwei Zahlen fragt und überprüft, ob die erste Zahl ein Vielfaches der zweiten ist. **Hinweise**: \n",
    "- Der Modulo-Operator is your friend!\n",
    "- Für User-Eingaben braucht es `input`"
   ]
  },
  {
   "cell_type": "code",
   "execution_count": 86,
   "id": "2c3d1596",
   "metadata": {},
   "outputs": [
    {
     "name": "stdin",
     "output_type": "stream",
     "text": [
      "Gib die erste Zahl ein:  3\n",
      "Gib die zweite Zahl ein:  2\n"
     ]
    },
    {
     "name": "stdout",
     "output_type": "stream",
     "text": [
      "3 ist kein Vielfaches von 2.\n"
     ]
    }
   ],
   "source": [
    "zahl1 = int(input(\"Gib die erste Zahl ein: \"))\n",
    "zahl2 = int(input(\"Gib die zweite Zahl ein: \"))\n",
    "\n",
    "if zahl2 != 0 and zahl1 % zahl2 == 0:\n",
    "    print(f\"{zahl1} ist ein Vielfaches von {zahl2}.\")\n",
    "else:\n",
    "    print(f\"{zahl1} ist kein Vielfaches von {zahl2}.\")"
   ]
  },
  {
   "cell_type": "markdown",
   "id": "39b7abfc",
   "metadata": {},
   "source": [
    "## Looping / Iterators\n",
    "### Task 2.9\n",
    "Gebe die Zahlen von 1 bis 10 mit Hilfe einer Iteration aus. **Hinweis**: `range` https://docs.python.org/2/library/functions.html#range is your friend!"
   ]
  },
  {
   "cell_type": "code",
   "execution_count": 88,
   "id": "f7732713",
   "metadata": {
    "tags": []
   },
   "outputs": [
    {
     "name": "stdout",
     "output_type": "stream",
     "text": [
      "1\n",
      "2\n",
      "3\n",
      "4\n",
      "5\n",
      "6\n",
      "7\n",
      "8\n",
      "9\n",
      "10\n"
     ]
    }
   ],
   "source": [
    "for i in range(1,11):\n",
    "    print(i)"
   ]
  },
  {
   "cell_type": "markdown",
   "id": "36892dbe",
   "metadata": {},
   "source": [
    "### Task 2.10\n",
    "Implementiere eine Schleife, die die Summe der Zahlen von 1 bis 100 berechnet."
   ]
  },
  {
   "cell_type": "code",
   "execution_count": 90,
   "id": "b98f1240",
   "metadata": {},
   "outputs": [
    {
     "name": "stdout",
     "output_type": "stream",
     "text": [
      "Die Summe der Zahlen von 1 bis 100 beträgt: 5050\n"
     ]
    }
   ],
   "source": [
    "summe = 0\n",
    "for i in range(1, 101):\n",
    "    summe += i\n",
    "print(f\"Die Summe der Zahlen von 1 bis 100 beträgt: {summe}\")"
   ]
  },
  {
   "cell_type": "markdown",
   "id": "2cfde69a",
   "metadata": {},
   "source": [
    "## Lists"
   ]
  },
  {
   "cell_type": "markdown",
   "id": "8a4e35ef",
   "metadata": {},
   "source": [
    "### Task 2.11\n",
    "Erstelle eine Liste mit den Zahlen 1 bis 5 und gib die Liste aus."
   ]
  },
  {
   "cell_type": "code",
   "execution_count": 92,
   "id": "f46e9472",
   "metadata": {
    "tags": []
   },
   "outputs": [
    {
     "name": "stdout",
     "output_type": "stream",
     "text": [
      "[1, 2, 3, 4, 5]\n"
     ]
    }
   ],
   "source": [
    "liste = [1, 2, 3, 4, 5]\n",
    "print(liste)"
   ]
  },
  {
   "cell_type": "markdown",
   "id": "86fd30f0",
   "metadata": {},
   "source": [
    "### Task 2.12 \n",
    "Füge ein neues Element zur Liste hinzu und gib die aktualisierte Liste aus."
   ]
  },
  {
   "cell_type": "code",
   "execution_count": 94,
   "id": "7918b6ac",
   "metadata": {
    "tags": []
   },
   "outputs": [
    {
     "name": "stdout",
     "output_type": "stream",
     "text": [
      "[1, 2, 3, 4, 5, 6]\n"
     ]
    }
   ],
   "source": [
    "liste.append(6)  \n",
    "print(liste)"
   ]
  },
  {
   "cell_type": "markdown",
   "id": "7407f8a8-9d31-4017-93f7-d8624fd99670",
   "metadata": {},
   "source": [
    "### Task 2.13 \n",
    "Lösche den Listeneintrag \"Sue\" durch Angabe des Indexes und entferne den Eintrag \"Kim\" anhand seines Wertes."
   ]
  },
  {
   "cell_type": "code",
   "execution_count": 96,
   "id": "e007d200-f9cb-44c1-b51f-b47252001e2f",
   "metadata": {
    "tags": []
   },
   "outputs": [
    {
     "name": "stdout",
     "output_type": "stream",
     "text": [
      "['Max', 'Joe']\n"
     ]
    }
   ],
   "source": [
    "names = [\"Max\", \"Sue\", \"Kim\", \"Joe\"]\n",
    "# Lösche den Listeneintrag \"Sue\" durch Angabe des Indexes\n",
    "del names[1]  # Sue hat den Index 1\n",
    "# Entferne den Eintrag \"Kim\" anhand seines Wertes\n",
    "names.remove(\"Kim\")\n",
    "print(names)"
   ]
  },
  {
   "cell_type": "markdown",
   "id": "f4f54e33",
   "metadata": {},
   "source": [
    "### Task 2.14\n",
    "Iterieren über die Liste `data` und fügen Sie hierbei alle geraden Einträge der neu zu erstellenden Liste `even_data` und alle ungeraden der Liste `odd_data` hinzu."
   ]
  },
  {
   "cell_type": "code",
   "execution_count": 98,
   "id": "f7be996a-7f5a-4454-bfbd-14a2e64768ac",
   "metadata": {
    "tags": []
   },
   "outputs": [
    {
     "name": "stdout",
     "output_type": "stream",
     "text": [
      "Gerade Zahlen: [2, 4, 6, 8, 10]\n",
      "Ungerade Zahlen: [1, 3, 5, 7, 9]\n"
     ]
    }
   ],
   "source": [
    "data = [1, 2, 3, 4, 5, 6, 7, 8, 9, 10]\n",
    "even_data = []\n",
    "odd_data = []\n",
    "\n",
    "for number in data:\n",
    "    if number % 2 == 0:\n",
    "        even_data.append(number)\n",
    "    else:\n",
    "        odd_data.append(number)\n",
    "\n",
    "print(\"Gerade Zahlen:\", even_data)\n",
    "print(\"Ungerade Zahlen:\", odd_data)"
   ]
  },
  {
   "cell_type": "markdown",
   "id": "d0bfe169",
   "metadata": {},
   "source": [
    "## Dictionaries\n",
    "### Task 2.15\n",
    "Erstelle das Dictionary `people`, das die Namen (=Key) und Alter (=Value) von drei Personen speichert. Gib das Dictionary aus. Beispielhaftes Ergebnis:\n",
    "````python\n",
    "{'Max': 22, 'Anna': 25, 'Tom': 30}\n",
    "````"
   ]
  },
  {
   "cell_type": "code",
   "execution_count": 100,
   "id": "e5693a7e-69d7-423e-a191-1b46b8a86ff6",
   "metadata": {},
   "outputs": [
    {
     "name": "stdout",
     "output_type": "stream",
     "text": [
      "{'Max': 22, 'Anna': 25, 'Tom': 30}\n"
     ]
    }
   ],
   "source": [
    "people = {'Max': 22, 'Anna': 25, 'Tom': 30}\n",
    "print(people)"
   ]
  },
  {
   "cell_type": "markdown",
   "id": "9b697a61",
   "metadata": {},
   "source": [
    "### Task 2.16\n",
    "Füge eine neue Person zum Dictionary hinzu und gib das aktualisierte Dictionary aus."
   ]
  },
  {
   "cell_type": "code",
   "execution_count": 102,
   "id": "9884bc75-a35f-4865-a97b-6ebf2dbed68b",
   "metadata": {},
   "outputs": [
    {
     "name": "stdout",
     "output_type": "stream",
     "text": [
      "{'Max': 22, 'Anna': 25, 'Tom': 30, 'Joe': 28}\n"
     ]
    }
   ],
   "source": [
    "people['Joe'] = 28  # Hinzufügen einer neuen Person\n",
    "print(people)"
   ]
  },
  {
   "cell_type": "markdown",
   "id": "ce7165ac",
   "metadata": {},
   "source": [
    "### Task 2.17"
   ]
  },
  {
   "cell_type": "markdown",
   "id": "586b884b",
   "metadata": {},
   "source": [
    "Grundlage bildet wiederum `people`: Gesucht ist diese Ausgabe:\n",
    "````python\n",
    "Max ist 22 Jahre alt\n",
    "Anna ist 25 Jahre alt\n",
    "Tom ist 30 Jahre alt\n",
    "````"
   ]
  },
  {
   "cell_type": "code",
   "execution_count": 104,
   "id": "691acafc-f261-4b4c-871a-80dbbacad1d6",
   "metadata": {},
   "outputs": [
    {
     "name": "stdout",
     "output_type": "stream",
     "text": [
      "Max ist 22 Jahre alt\n",
      "Anna ist 25 Jahre alt\n",
      "Tom ist 30 Jahre alt\n",
      "Joe ist 28 Jahre alt\n"
     ]
    }
   ],
   "source": [
    "for name, age in people.items():\n",
    "    print(f\"{name} ist {age} Jahre alt\")"
   ]
  }
 ],
 "metadata": {
  "kernelspec": {
   "display_name": "Python 3 (ipykernel)",
   "language": "python",
   "name": "python3"
  },
  "language_info": {
   "codemirror_mode": {
    "name": "ipython",
    "version": 3
   },
   "file_extension": ".py",
   "mimetype": "text/x-python",
   "name": "python",
   "nbconvert_exporter": "python",
   "pygments_lexer": "ipython3",
   "version": "3.12.4"
  }
 },
 "nbformat": 4,
 "nbformat_minor": 5
}
