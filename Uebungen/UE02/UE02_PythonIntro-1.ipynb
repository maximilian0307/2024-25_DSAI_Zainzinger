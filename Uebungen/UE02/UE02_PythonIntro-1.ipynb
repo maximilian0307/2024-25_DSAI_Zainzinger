{
 "cells": [
  {
   "cell_type": "markdown",
   "id": "ec9c8e46",
   "metadata": {},
   "source": [
    "# UE02 Python Einführung I - Aufgaben\n",
    "Arbeiten Sie nachfolgenden Aufgabenstellungen durch und geben Sie das Notebook via Repo (im entsprechenden Ordner) ab."
   ]
  },
  {
   "cell_type": "markdown",
   "id": "05bf5963-55d5-48f3-a31b-9044083d19f7",
   "metadata": {},
   "source": [
    "## Variablen, Strings und String-Operationen\n",
    "### Task 2.1\n",
    "Macht es einen Unterschied, ob man einfache oder doppelte Anführungsstriche verwendet? Erzeugen Sie mit <code>print(...)</code> folgende Ausgabe : **Now, I'm able to use 'print'!**"
   ]
  },
  {
   "cell_type": "code",
   "execution_count": null,
   "id": "8f87a510-77ee-4743-8e5d-f1e067dbdbe4",
   "metadata": {
    "tags": []
   },
   "outputs": [],
   "source": [
    "#In Python gibt es keinen praktischen Unterschied zwischen einfachen (') und doppelten (\") Anführungsstrichen\n",
    "print(\"Now, I'm able to use 'print'!\")"
   ]
  },
  {
   "cell_type": "markdown",
   "id": "c8133d3d",
   "metadata": {},
   "source": [
    "### Task 2.2\n",
    "Definiere drei Variablen, die deinen Namen, dein Alter und deinen Lieblingssport speichern. Gib dann alle Variablen in einer einzigen `print()`-Anweisung aus. gesuchtes Ergebnis:\n",
    "\n",
    "```python\n",
    "Name: Joe, Alter: 22, Sport: Tennis\n",
    "```"
   ]
  },
  {
   "cell_type": "code",
   "execution_count": null,
   "id": "bcfcb3c2",
   "metadata": {
    "tags": []
   },
   "outputs": [],
   "source": [
    "name = \"Joe\"\n",
    "alter = 22\n",
    "sport = \"Tennis\"\n",
    "\n",
    "#Mit dem f vor dem Anführungszeichen kannst du Variablen innerhalb einer Zeichenkette direkt einfügen.\n",
    "print(f\"Name: {name}, Alter: {alter}, Sport: {sport}\")"
   ]
  },
  {
   "cell_type": "markdown",
   "id": "b463c29c-68d8-4d5f-b2d2-670261de0240",
   "metadata": {},
   "source": [
    "### Task 2.3\n",
    "Nehmen Sie https://docs.python.org/3.8/tutorial/introduction.html#strings durch, und zwar ab \"*Strings can be indexed...*\". Als Bearbeitungsgrundlage dient der Text in <code>show</code>:\n",
    "1. Geben Sie den zweiten Buchstaben der Zeichenkette aus\n",
    "2. Geben Sie das Wort **eating** aus\n",
    "3. Geben Sie alles nach **Software** aus\n",
    "4. Geben Sie alles vor **the** aus\n",
    "5. Geben Sie die letzten 3 Buchstaben der Zeichenkette aus"
   ]
  },
  {
   "cell_type": "code",
   "execution_count": 2,
   "id": "4e41acec-ba44-498c-badf-d35d1ff636d1",
   "metadata": {
    "tags": []
   },
   "outputs": [
    {
     "name": "stdout",
     "output_type": "stream",
     "text": [
      "Zweiter Buchstabe: o\n",
      "Wort 'eating': eating\n",
      "Alles nach 'Software':  is eating the world!\n",
      "Alles vor 'the': Software is eating\n",
      "Letzte drei Buchstaben: ld!\n"
     ]
    }
   ],
   "source": [
    "show = \"Software is eating the world!\"\n",
    "\n",
    "# 1. Geben Sie den zweiten Buchstaben der Zeichenkette aus\n",
    "zweiter_buchstabe = show[1]\n",
    "print(f\"Zweiter Buchstabe: {zweiter_buchstabe}\")\n",
    "\n",
    "# 2. Geben Sie das Wort \"eating\" aus\n",
    "wort_eating = show[12:18]\n",
    "print(f\"Wort 'eating': {wort_eating}\")\n",
    "\n",
    "# 3. Geben Sie alles nach \"Software\" aus\n",
    "nach_software = show[8:]\n",
    "print(f\"Alles nach 'Software': {nach_software}\")\n",
    "\n",
    "# 4. Geben Sie alles vor \"the\" aus\n",
    "vor_the = show[:18]\n",
    "print(f\"Alles vor 'the': {vor_the}\")\n",
    "\n",
    "# 5. Geben Sie die letzten 3 Buchstaben der Zeichenkette aus\n",
    "letzte_drei = show[-3:]\n",
    "print(f\"Letzte drei Buchstaben: {letzte_drei}\")"
   ]
  },
  {
   "cell_type": "markdown",
   "id": "8008b946",
   "metadata": {},
   "source": [
    "## Mathematische Operationen\n",
    "### Task 2.4\n",
    "Berechne den Umfang eines Rechtecks. Speichere die Länge und Breite in zwei Variablen und berechne dann den Umfang. Gib das Ergebnis aus. Gesuchtes Ergebnis; wobei für den Umfang beliebige werte gewählt werden können:\n",
    "````python\n",
    "Der Umfang des Rechtecks beträgt: 30\n",
    "````"
   ]
  },
  {
   "cell_type": "code",
   "execution_count": 2,
   "id": "7e7aca2e",
   "metadata": {
    "tags": []
   },
   "outputs": [
    {
     "name": "stdout",
     "output_type": "stream",
     "text": [
      "Der Umfang des Rechtecks beträgt: 30\n"
     ]
    }
   ],
   "source": [
    "laenge = 10  \n",
    "breite = 5  \n",
    "\n",
    "umfang = 2 * (laenge + breite)\n",
    "\n",
    "\n",
    "print(f\"Der Umfang des Rechtecks beträgt: {umfang}\")"
   ]
  },
  {
   "cell_type": "markdown",
   "id": "41405e5c",
   "metadata": {},
   "source": [
    "### Task 2.5"
   ]
  },
  {
   "cell_type": "markdown",
   "id": "40a2051c",
   "metadata": {},
   "source": [
    "Schreibe jenen Code, der die Quadrate von drei Zahlen (siehe `a`, `b` und `c`) errechnet und in `sum_of_squares` speichert. Exemplarisches Ergebnis:\n",
    "```python\n",
    "Die Summe der Quadrate von 2, 3 und 4 beträgt: 29\n",
    "```"
   ]
  },
  {
   "cell_type": "code",
   "execution_count": null,
   "id": "49c703d0",
   "metadata": {
    "tags": []
   },
   "outputs": [],
   "source": []
  },
  {
   "cell_type": "markdown",
   "id": "51d8ba58",
   "metadata": {},
   "source": [
    "## Control Flow - Conditional Statements\n",
    "### Task 2.6"
   ]
  },
  {
   "cell_type": "markdown",
   "id": "62517622",
   "metadata": {},
   "source": [
    "Schreibe ein Programm, das überprüft, ob eine Zahl gerade oder ungerade ist. Verwende eine If-Bedingung, um die Ausgabe entsprechend zu gestalten."
   ]
  },
  {
   "cell_type": "code",
   "execution_count": 6,
   "id": "c73587e8",
   "metadata": {},
   "outputs": [
    {
     "name": "stdin",
     "output_type": "stream",
     "text": [
      "Gib eine Zahl ein:  7\n"
     ]
    },
    {
     "name": "stdout",
     "output_type": "stream",
     "text": [
      "Die Zahl 7 ist ungerade.\n"
     ]
    }
   ],
   "source": [
    "zahl = int(input(\"Gib eine Zahl ein: \"))\n",
    "\n",
    "if zahl % 2 == 0:\n",
    "    print(f\"Die Zahl {zahl} ist gerade.\")\n",
    "else:\n",
    "    print(f\"Die Zahl {zahl} ist ungerade.\")"
   ]
  },
  {
   "cell_type": "markdown",
   "id": "95b28a4d",
   "metadata": {},
   "source": [
    "### Task 2.7\n",
    "Schreibe ein Programm, das überprüft, ob eine gegebene Zahl positiv, negativ oder null ist."
   ]
  },
  {
   "cell_type": "code",
   "execution_count": 8,
   "id": "9a4096da",
   "metadata": {},
   "outputs": [
    {
     "name": "stdin",
     "output_type": "stream",
     "text": [
      "Gib eine Zahl ein:  5\n"
     ]
    },
    {
     "name": "stdout",
     "output_type": "stream",
     "text": [
      "Die Zahl 5.0 ist positiv.\n"
     ]
    }
   ],
   "source": [
    "zahl = float(input(\"Gib eine Zahl ein: \"))\n",
    "\n",
    "if zahl > 0:\n",
    "    print(f\"Die Zahl {zahl} ist positiv.\")\n",
    "elif zahl < 0:\n",
    "    print(f\"Die Zahl {zahl} ist negativ.\")\n",
    "else:\n",
    "    print(f\"Die Zahl ist null.\")\n"
   ]
  },
  {
   "cell_type": "markdown",
   "id": "9bad5124",
   "metadata": {},
   "source": [
    "### Task 2.8"
   ]
  },
  {
   "cell_type": "markdown",
   "id": "872afc50",
   "metadata": {},
   "source": [
    "Schreibe jenen Code, der den Benutzer nach zwei Zahlen fragt und überprüft, ob die erste Zahl ein Vielfaches der zweiten ist. **Hinweise**: \n",
    "- Der Modulo-Operator is your friend!\n",
    "- Für User-Eingaben braucht es `input`"
   ]
  },
  {
   "cell_type": "code",
   "execution_count": 10,
   "id": "2c3d1596",
   "metadata": {},
   "outputs": [
    {
     "name": "stdin",
     "output_type": "stream",
     "text": [
      "Gib die erste Zahl ein:  5\n",
      "Gib die zweite Zahl ein:  10\n"
     ]
    },
    {
     "name": "stdout",
     "output_type": "stream",
     "text": [
      "Die Zahl 5 ist kein Vielfaches von 10.\n"
     ]
    }
   ],
   "source": [
    "zahl1 = int(input(\"Gib die erste Zahl ein: \"))\n",
    "zahl2 = int(input(\"Gib die zweite Zahl ein: \"))\n",
    "\n",
    "if zahl2 != 0:\n",
    "    if zahl1 % zahl2 == 0:\n",
    "        print(f\"Die Zahl {zahl1} ist ein Vielfaches von {zahl2}.\")\n",
    "    else:\n",
    "        print(f\"Die Zahl {zahl1} ist kein Vielfaches von {zahl2}.\")\n",
    "else:\n",
    "    print(\"Die zweite Zahl darf nicht null sein.\")\n"
   ]
  },
  {
   "cell_type": "markdown",
   "id": "39b7abfc",
   "metadata": {},
   "source": [
    "## Looping / Iterators\n",
    "### Task 2.9\n",
    "Gebe die Zahlen von 1 bis 10 mit Hilfe einer Iteration aus. **Hinweis**: `range` https://docs.python.org/2/library/functions.html#range is your friend!"
   ]
  },
  {
   "cell_type": "code",
   "execution_count": 14,
   "id": "f7732713",
   "metadata": {
    "tags": []
   },
   "outputs": [
    {
     "name": "stdout",
     "output_type": "stream",
     "text": [
      "1\n",
      "2\n",
      "3\n",
      "4\n",
      "5\n",
      "6\n",
      "7\n",
      "8\n",
      "9\n",
      "10\n"
     ]
    }
   ],
   "source": [
    "# Iteration über die Zahlen von 1 bis 10\n",
    "for zahl in range(1, 11):\n",
    "    print(zahl)"
   ]
  },
  {
   "cell_type": "markdown",
   "id": "36892dbe",
   "metadata": {},
   "source": [
    "### Task 2.10\n",
    "Implementiere eine Schleife, die die Summe der Zahlen von 1 bis 100 berechnet."
   ]
  },
  {
   "cell_type": "code",
   "execution_count": 17,
   "id": "b98f1240",
   "metadata": {},
   "outputs": [
    {
     "name": "stdout",
     "output_type": "stream",
     "text": [
      "Die Summe der Zahlen von 1 bis 100 beträgt: 5050\n"
     ]
    }
   ],
   "source": [
    "summe = 0\n",
    "\n",
    "for zahl in range(1, 101):\n",
    "    summe += zahl\n",
    "\n",
    "print(f\"Die Summe der Zahlen von 1 bis 100 beträgt: {summe}\")"
   ]
  },
  {
   "cell_type": "markdown",
   "id": "2cfde69a",
   "metadata": {},
   "source": [
    "## Lists"
   ]
  },
  {
   "cell_type": "markdown",
   "id": "8a4e35ef",
   "metadata": {},
   "source": [
    "### Task 2.11\n",
    "Erstelle eine Liste mit den Zahlen 1 bis 5 und gib die Liste aus."
   ]
  },
  {
   "cell_type": "code",
   "execution_count": 20,
   "id": "f46e9472",
   "metadata": {
    "tags": []
   },
   "outputs": [
    {
     "name": "stdout",
     "output_type": "stream",
     "text": [
      "[1, 2, 3, 4, 5]\n"
     ]
    }
   ],
   "source": [
    "zahlen_liste = [1, 2, 3, 4, 5]\n",
    "\n",
    "print(zahlen_liste)"
   ]
  },
  {
   "cell_type": "markdown",
   "id": "86fd30f0",
   "metadata": {},
   "source": [
    "### Task 2.12 \n",
    "Füge ein neues Element zur Liste hinzu und gib die aktualisierte Liste aus."
   ]
  },
  {
   "cell_type": "code",
   "execution_count": 24,
   "id": "7918b6ac",
   "metadata": {
    "tags": []
   },
   "outputs": [
    {
     "name": "stdout",
     "output_type": "stream",
     "text": [
      "[1, 2, 3, 4, 5, 6]\n"
     ]
    }
   ],
   "source": [
    "zahlen_liste = [1, 2, 3, 4, 5]\n",
    "\n",
    "zahlen_liste.append(6)\n",
    "\n",
    "print(zahlen_liste)\n"
   ]
  },
  {
   "cell_type": "markdown",
   "id": "7407f8a8-9d31-4017-93f7-d8624fd99670",
   "metadata": {},
   "source": [
    "### Task 2.13 \n",
    "Lösche den Listeneintrag \"Sue\" durch Angabe des Indexes und entferne den Eintrag \"Kim\" anhand seines Wertes."
   ]
  },
  {
   "cell_type": "code",
   "execution_count": 27,
   "id": "e007d200-f9cb-44c1-b51f-b47252001e2f",
   "metadata": {
    "tags": []
   },
   "outputs": [
    {
     "name": "stdout",
     "output_type": "stream",
     "text": [
      "['Max', 'Joe']\n"
     ]
    }
   ],
   "source": [
    "names = [\"Max\", \"Sue\", \"Kim\", \"Joe\"]\n",
    "\n",
    "del names[1]\n",
    "\n",
    "names.remove(\"Kim\")\n",
    "\n",
    "print(names)"
   ]
  },
  {
   "cell_type": "markdown",
   "id": "f4f54e33",
   "metadata": {},
   "source": [
    "### Task 2.14\n",
    "Iterieren über die Liste `data` und fügen Sie hierbei alle geraden Einträge der neu zu erstellenden Liste `even_data` und alle ungeraden der Liste `odd_data` hinzu."
   ]
  },
  {
   "cell_type": "code",
   "execution_count": 29,
   "id": "f7be996a-7f5a-4454-bfbd-14a2e64768ac",
   "metadata": {
    "tags": []
   },
   "outputs": [
    {
     "name": "stdout",
     "output_type": "stream",
     "text": [
      "Gerade Zahlen: [2, 4, 6, 8, 10]\n",
      "Ungerade Zahlen: [1, 3, 5, 7, 9]\n"
     ]
    }
   ],
   "source": [
    "data = [1, 2, 3, 4, 5, 6, 7, 8, 9, 10]\n",
    "\n",
    "# Leere Listen für gerade und ungerade Zahlen\n",
    "even_data = []\n",
    "odd_data = []\n",
    "\n",
    "# Iteration über die Liste data\n",
    "for number in data:\n",
    "    if number % 2 == 0:  # Überprüfung auf gerade Zahlen\n",
    "        even_data.append(number)\n",
    "    else:  # Wenn die Zahl ungerade ist\n",
    "        odd_data.append(number)\n",
    "\n",
    "# Ausgabe der Ergebnisse\n",
    "print(\"Gerade Zahlen:\", even_data)\n",
    "print(\"Ungerade Zahlen:\", odd_data)\n"
   ]
  },
  {
   "cell_type": "markdown",
   "id": "d0bfe169",
   "metadata": {},
   "source": [
    "## Dictionaries\n",
    "### Task 2.15\n",
    "Erstelle das Dictionary `people`, das die Namen (=Key) und Alter (=Value) von drei Personen speichert. Gib das Dictionary aus. Beispielhaftes Ergebnis:\n",
    "````python\n",
    "{'Max': 22, 'Anna': 25, 'Tom': 30}\n",
    "````"
   ]
  },
  {
   "cell_type": "code",
   "execution_count": 32,
   "id": "f6a20055-b456-41b8-a6f8-980136b20b08",
   "metadata": {},
   "outputs": [
    {
     "name": "stdout",
     "output_type": "stream",
     "text": [
      "{'Max': 22, 'Anna': 25, 'Tom': 30}\n"
     ]
    }
   ],
   "source": [
    "# Dictionary mit Namen und Alter erstellen\n",
    "people = {\n",
    "    'Max': 22,\n",
    "    'Anna': 25,\n",
    "    'Tom': 30\n",
    "}\n",
    "\n",
    "print(people)"
   ]
  },
  {
   "cell_type": "markdown",
   "id": "9b697a61",
   "metadata": {},
   "source": [
    "### Task 2.16\n",
    "Füge eine neue Person zum Dictionary hinzu und gib das aktualisierte Dictionary aus."
   ]
  },
  {
   "cell_type": "code",
   "execution_count": 36,
   "id": "d1ea4566-304f-45d9-a55c-98ad483128f1",
   "metadata": {},
   "outputs": [
    {
     "name": "stdout",
     "output_type": "stream",
     "text": [
      "{'Max': 22, 'Anna': 25, 'Tom': 30, 'Lisa': 28}\n"
     ]
    }
   ],
   "source": [
    "people = {\n",
    "    'Max': 22,\n",
    "    'Anna': 25,\n",
    "    'Tom': 30\n",
    "}\n",
    "\n",
    "# Eine neue Person zum Dictionary hinzufügen\n",
    "people['Lisa'] = 28  # Beispielalter\n",
    "\n",
    "print(people)\n"
   ]
  },
  {
   "cell_type": "markdown",
   "id": "ce7165ac",
   "metadata": {},
   "source": [
    "### Task 2.17"
   ]
  },
  {
   "cell_type": "markdown",
   "id": "586b884b",
   "metadata": {},
   "source": [
    "Grundlage bildet wiederum `people`: Gesucht ist diese Ausgabe:\n",
    "````python\n",
    "Max ist 22 Jahre alt\n",
    "Anna ist 25 Jahre alt\n",
    "Tom ist 30 Jahre alt\n",
    "````"
   ]
  },
  {
   "cell_type": "code",
   "execution_count": 39,
   "id": "bfc2be88-3d27-468e-9124-1f696afb7c87",
   "metadata": {},
   "outputs": [
    {
     "name": "stdout",
     "output_type": "stream",
     "text": [
      "Max ist 22 Jahre alt\n",
      "Anna ist 25 Jahre alt\n",
      "Tom ist 30 Jahre alt\n"
     ]
    }
   ],
   "source": [
    "people = {\n",
    "    'Max': 22,\n",
    "    'Anna': 25,\n",
    "    'Tom': 30\n",
    "}\n",
    "\n",
    "# Ausgabe im gewünschten Format\n",
    "for name, alter in people.items():\n",
    "    print(f\"{name} ist {alter} Jahre alt\")\n"
   ]
  }
 ],
 "metadata": {
  "kernelspec": {
   "display_name": "Python 3 (ipykernel)",
   "language": "python",
   "name": "python3"
  },
  "language_info": {
   "codemirror_mode": {
    "name": "ipython",
    "version": 3
   },
   "file_extension": ".py",
   "mimetype": "text/x-python",
   "name": "python",
   "nbconvert_exporter": "python",
   "pygments_lexer": "ipython3",
   "version": "3.12.4"
  }
 },
 "nbformat": 4,
 "nbformat_minor": 5
}
