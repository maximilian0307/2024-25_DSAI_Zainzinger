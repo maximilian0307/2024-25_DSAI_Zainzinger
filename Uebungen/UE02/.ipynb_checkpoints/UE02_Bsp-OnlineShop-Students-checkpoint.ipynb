{
 "cells": [
  {
   "cell_type": "markdown",
   "id": "2a97cea1",
   "metadata": {},
   "source": [
    "## Berechnung der Versandkosten\n",
    "\n",
    "Sie wurden mit der Umsetzung eines Online-Shops betraut. In der Variable `subtotal` (Zwischensumme) ist die Gesamtsumme aller gekauften Artikel gespeichert. Die Versandkosten betragen **7,90 Euro**. Ab einem Einkaufswert von **mindestens 50 Euro** entfallen die Versandkosten.\n",
    "\n",
    "Schreiben Sie ein Programm, das die Versandkosten zum Warenpreis hinzufügt und den (neuen) Gesamtpreis berechnet und in weiterer Folge ausgibt. Zusätzlich soll das Programm, falls zutreffend, anzeigen, wie viel Geld noch ausgegeben werden muss, um eine versandkostenfreie Lieferung zu erhalten.\n",
    "\n",
    "**Hinweis**: Die Funktion `round()` kann mit einem zweiten Parameter verwendet werden, um die Anzahl der Dezimalstellen festzulegen. Zum Beispiel ergibt `round(1.2934, 2)` den Wert 1,29. Dies ist bei der Ausgabe von Geldbeträgen hilfreich.\n",
    "\n",
    "**Beispielausgaben**:\n",
    "- Wenn `subtotal < 50` (z.B. 45.50€): *Wenn Sie weitere Waren im Wert von 4.5 Euro einkaufen, erfolgt der Versand kostenfrei. Gesamtpreis: 53.4 Euro*\n",
    "- Wenn `subtotal >= 50` (z.B. 52€): *Gesamtpreis: 52 Euro* "
   ]
  },
  {
   "cell_type": "code",
   "execution_count": 3,
   "id": "96b7cb0f",
   "metadata": {},
   "outputs": [
    {
     "name": "stdout",
     "output_type": "stream",
     "text": [
      "Wenn Sie weitere Waren im Wert von 4.5 Euro einkaufen, erfolgt der Versand kostenfrei.\n",
      "Gesamtpreis: 53.4 Euro\n"
     ]
    }
   ],
   "source": [
    "subtotal = 45.5  # Beispielwert, kann beliebig geändert werden\n",
    "\n",
    "# Festlegung der Versandkosten und des Schwellenwerts für kostenlose Lieferung\n",
    "versandkosten = 7.90\n",
    "versandkostenfrei_schwelle = 50.00\n",
    "\n",
    "# Berechnung der Gesamtkosten\n",
    "if subtotal >= versandkostenfrei_schwelle:\n",
    "    # Versandkosten entfallen\n",
    "    gesamtpreis = subtotal\n",
    "    print(f\"Gesamtpreis: {round(gesamtpreis, 2)} Euro\")\n",
    "else:\n",
    "    # Versandkosten werden hinzugefügt\n",
    "    gesamtpreis = subtotal + versandkosten\n",
    "    noch_noetig = versandkostenfrei_schwelle - subtotal\n",
    "    print(f\"Wenn Sie weitere Waren im Wert von {round(noch_noetig, 2)} Euro einkaufen, erfolgt der Versand kostenfrei.\")\n",
    "    print(f\"Gesamtpreis: {round(gesamtpreis, 2)} Euro\")\n"
   ]
  }
 ],
 "metadata": {
  "kernelspec": {
   "display_name": "Python 3 (ipykernel)",
   "language": "python",
   "name": "python3"
  },
  "language_info": {
   "codemirror_mode": {
    "name": "ipython",
    "version": 3
   },
   "file_extension": ".py",
   "mimetype": "text/x-python",
   "name": "python",
   "nbconvert_exporter": "python",
   "pygments_lexer": "ipython3",
   "version": "3.12.4"
  }
 },
 "nbformat": 4,
 "nbformat_minor": 5
}
