{
 "cells": [
  {
   "cell_type": "markdown",
   "id": "f84980bf",
   "metadata": {},
   "source": [
    "## Analyse von Firewall-Logeinträgen\n",
    "\n",
    "Grundlage bildet das ZIP File *syslog.zip*, das Logeinträge einer Firewall enthält. Jede Zeile im Logfile dokumentiert einen sicherheitsrelevanten Vorfall. Ereignisse, die von der Firewall protokolliert wurden, sind durch den Tag `[UFW ...]` gekennzeichnet. Blockierte Netzwerkpakete werden explizit mit `[UFW BLOCK]` markiert. Der Parameter `SRC=` gibt in diesen Fällen die IP-Adresse an, von der das blockierte Datenpaket gesendet wurde.\n",
    "\n",
    "Auszug aus der *syslog*:\n",
    "````text\n",
    "Jul  6 06:25:29 localhost kernel: [2577529.516853] [UFW BLOCK] IN=eth0 OUT= MAC=00:1b:c6:41:6f:e2:00:1b:c6:10:dc:02:08:00 SRC=195.54.160.155 DST=10.214.99.141 LEN=40 TOS=0x00 PREC=0x00 TTL=249 ID=32829 PROTO=TCP SPT=55025 DPT=701 WINDOW=1024 RES=0x00 SYN URGP=0 \n",
    "Jul  6 06:25:52 localhost kernel: [2577552.314403] [UFW BLOCK] IN=eth0 OUT= MAC=00:1b:c6:41:6f:e2:00:1b:c6:10:dc:02:08:00 SRC=80.82.65.74 DST=10.214.99.141 LEN=40 TOS=0x00 PREC=0x00 TTL=250 ID=18191 PROTO=TCP SPT=49954 DPT=6041 WINDOW=1024 RES=0x00 SYN URGP=0 \n",
    "````\n",
    "\n",
    "> **Hinweis**: Wenn möglich, setzen Sie eine *List Comprehension* ein.\n",
    "\n",
    "### Task 1\n",
    "Laden Sie das ZIP file mithilfe des Moduls `zipfile` (siehe https://docs.python.org/3/library/zipfile.html#zipfile.ZipFile.open), entpacken Sie dieses (auf Code-Ebene) und geben Sie die ersten 2 Einträge aus (siehe oben).  "
   ]
  },
  {
   "cell_type": "code",
   "execution_count": 1,
   "id": "bf41853e",
   "metadata": {},
   "outputs": [
    {
     "name": "stdout",
     "output_type": "stream",
     "text": [
      "Jul  6 06:25:29 localhost kernel: [2577529.516853] [UFW BLOCK] IN=eth0 OUT= MAC=00:1b:c6:41:6f:e2:00:1b:c6:10:dc:02:08:00 SRC=195.54.160.155 DST=10.214.99.141 LEN=40 TOS=0x00 PREC=0x00 TTL=249 ID=32829 PROTO=TCP SPT=55025 DPT=701 WINDOW=1024 RES=0x00 SYN URGP=0\n",
      "Jul  6 06:25:52 localhost kernel: [2577552.314403] [UFW BLOCK] IN=eth0 OUT= MAC=00:1b:c6:41:6f:e2:00:1b:c6:10:dc:02:08:00 SRC=80.82.65.74 DST=10.214.99.141 LEN=40 TOS=0x00 PREC=0x00 TTL=250 ID=18191 PROTO=TCP SPT=49954 DPT=6041 WINDOW=1024 RES=0x00 SYN URGP=0\n"
     ]
    }
   ],
   "source": [
    "import zipfile\n",
    "\n",
    "zip_file_path = 'logfile.zip'  # Pfad zur ZIP-Datei\n",
    "\n",
    "with zipfile.ZipFile(zip_file_path, 'r') as zip_ref:\n",
    "    log_filename = zip_ref.namelist()[0] \n",
    "    with zip_ref.open(log_filename) as log_file:\n",
    "        log_lines = [line.decode('utf-8').strip() for line in log_file]\n",
    "        \n",
    "        for line in log_lines[:2]:\n",
    "            print(line)\n"
   ]
  },
  {
   "cell_type": "markdown",
   "id": "d9959b39",
   "metadata": {},
   "source": [
    "### Task 2\n",
    "Über wie viele Einträge verfügt die Log-Datei?"
   ]
  },
  {
   "cell_type": "code",
   "execution_count": 5,
   "id": "935b9cf4",
   "metadata": {},
   "outputs": [
    {
     "name": "stdout",
     "output_type": "stream",
     "text": [
      "6677\n"
     ]
    }
   ],
   "source": [
    "zip_file_path = 'logfile.zip'  # Pfad zur ZIP-Datei\n",
    "\n",
    "with zipfile.ZipFile(zip_file_path, 'r') as zip_ref:\n",
    "    log_filename = zip_ref.namelist()[0]  # Annahme: Nur eine Datei im Archiv\n",
    "    with zip_ref.open(log_filename) as log_file:\n",
    "        # Einträge in die Liste laden\n",
    "        log_lines = [line.decode('utf-8').strip() for line in log_file]\n",
    "        \n",
    "        num_entries = len(log_lines)\n",
    "        print(f\"{num_entries}\")\n"
   ]
  },
  {
   "cell_type": "markdown",
   "id": "010bac65",
   "metadata": {},
   "source": [
    "### Task 3\n",
    "Wie viele Einträge weisen den Status \"geblockt\" auf?"
   ]
  },
  {
   "cell_type": "code",
   "execution_count": 3,
   "id": "ed031c63",
   "metadata": {},
   "outputs": [
    {
     "name": "stdout",
     "output_type": "stream",
     "text": [
      "Die Log-Datei enthält 6191 geblockte Einträge.\n"
     ]
    }
   ],
   "source": [
    "zip_file_path = 'logfile.zip'  # Pfad zur ZIP-Datei\n",
    "\n",
    "with zipfile.ZipFile(zip_file_path, 'r') as zip_ref:\n",
    "    log_filename = zip_ref.namelist()[0]  # Annahme: Nur eine Datei im Archiv\n",
    "    with zip_ref.open(log_filename) as log_file:\n",
    "        log_lines = [line.decode('utf-8').strip() for line in log_file]\n",
    "        \n",
    "        blocked_entries = [line for line in log_lines if '[UFW BLOCK]' in line]\n",
    "        num_blocked_entries = len(blocked_entries)\n",
    "        \n",
    "        print(f\"Die Log-Datei enthält {num_blocked_entries} geblockte Einträge.\")\n"
   ]
  },
  {
   "cell_type": "markdown",
   "id": "349334e1",
   "metadata": {},
   "source": [
    "## Task 4\n",
    "Wie viele Pakete stammen von der IP Adresse 94.102.51.28?"
   ]
  },
  {
   "cell_type": "code",
   "execution_count": 12,
   "id": "4b81a4f0",
   "metadata": {},
   "outputs": [
    {
     "name": "stdout",
     "output_type": "stream",
     "text": [
      "Die Log-Datei enthält 334 Einträge von der IP-Adresse 94.102.51.28.\n"
     ]
    }
   ],
   "source": [
    "import zipfile\n",
    "\n",
    "# ZIP-File öffnen und entpacken\n",
    "zip_file_path = 'logfile.zip'  # Pfad zur ZIP-Datei\n",
    "\n",
    "with zipfile.ZipFile(zip_file_path, 'r') as zip_ref:\n",
    "    # Namen der Dateien im ZIP-Archiv abrufen\n",
    "    log_filename = zip_ref.namelist()[0]  # Annahme: Nur eine Datei im Archiv\n",
    "    with zip_ref.open(log_filename) as log_file:\n",
    "        # Einträge in die Liste laden\n",
    "        log_lines = [line.decode('utf-8').strip() for line in log_file]\n",
    "        \n",
    "        # Anzahl der Pakete von der IP-Adresse 94.102.51.28 ermitteln\n",
    "        ip_specific_entries = [line for line in log_lines if 'SRC=94.102.51.28' in line]\n",
    "        num_ip_specific_entries = len(ip_specific_entries)\n",
    "        \n",
    "        print(f\"Die Log-Datei enthält {num_ip_specific_entries} Einträge\")\n"
   ]
  },
  {
   "cell_type": "code",
   "execution_count": 18,
   "id": "ae4dc981-8867-4256-a015-94466e9bf132",
   "metadata": {},
   "outputs": [
    {
     "name": "stdout",
     "output_type": "stream",
     "text": [
      "Die Log-Datei enthält 6677 Einträge.\n",
      "Die Log-Datei enthält 6191 geblockte Einträge.\n",
      "Die Log-Datei enthält 334 Einträge von der IP-Adresse 94.102.51.28.\n"
     ]
    }
   ],
   "source": [
    "# alle Aufgaben in einer, für mich\n",
    "zip_file_path = 'logfile.zip' \n",
    "\n",
    "with zipfile.ZipFile(zip_file_path, 'r') as zip_ref:\n",
    "    log_filename = zip_ref.namelist()[0]\n",
    "    with zip_ref.open(log_filename) as log_file:\n",
    "        log_lines = [line.decode('utf-8').strip() for line in log_file]\n",
    "        \n",
    "        num_entries = len(log_lines)\n",
    "        print(f\"Die Log-Datei enthält {num_entries} Einträge.\")\n",
    "\n",
    "        num_blocked_entries = sum(1 for line in log_lines if '[UFW BLOCK]' in line)\n",
    "        print(f\"Die Log-Datei enthält {num_blocked_entries} geblockte Einträge.\")\n",
    "\n",
    "        num_ip_specific_entries = sum(1 for line in log_lines if 'SRC=94.102.51.28' in line)\n",
    "        print(f\"Die Log-Datei enthält {num_ip_specific_entries} Einträge\")\n"
   ]
  }
 ],
 "metadata": {
  "kernelspec": {
   "display_name": "Python 3 (ipykernel)",
   "language": "python",
   "name": "python3"
  },
  "language_info": {
   "codemirror_mode": {
    "name": "ipython",
    "version": 3
   },
   "file_extension": ".py",
   "mimetype": "text/x-python",
   "name": "python",
   "nbconvert_exporter": "python",
   "pygments_lexer": "ipython3",
   "version": "3.12.4"
  }
 },
 "nbformat": 4,
 "nbformat_minor": 5
}
