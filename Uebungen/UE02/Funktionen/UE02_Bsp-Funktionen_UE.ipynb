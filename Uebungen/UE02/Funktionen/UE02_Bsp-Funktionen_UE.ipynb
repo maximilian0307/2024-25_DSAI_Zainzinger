{
 "cells": [
  {
   "cell_type": "markdown",
   "id": "dd9cde39",
   "metadata": {},
   "source": [
    "# UE02 Python Funktionen - Aufgaben \n",
    "\n",
    "## Aufgabe 02.4.1\n",
    "Implementieren Sie die Funktion *celsius_to_fahrenheit*, die eine Temperatur von Celsius in Fahrenheit umrechnen kann. Hierfür benötigen Sie folgende Formel °F = °C * 1.8 + 32"
   ]
  },
  {
   "cell_type": "code",
   "execution_count": 164,
   "id": "0264e98d",
   "metadata": {},
   "outputs": [
    {
     "name": "stdin",
     "output_type": "stream",
     "text": [
      "Gib eine Temperatur in Grad ein:  5\n"
     ]
    },
    {
     "name": "stdout",
     "output_type": "stream",
     "text": [
      "5.0°C entspricht 41.0°F.\n"
     ]
    }
   ],
   "source": [
    "def celsius_to_fahrenheit(celsius):\n",
    "    fahrenheit = celsius * 1.8 + 32\n",
    "    return round(fahrenheit, 2)  \n",
    "\n",
    "celsius_input = float(input(\"Gib eine Temperatur in Grad ein: \"))\n",
    "\n",
    "fahrenheit_output = celsius_to_fahrenheit(celsius_input)\n",
    "print(f\"{celsius_input}°C entspricht {fahrenheit_output}°F.\")\n"
   ]
  },
  {
   "cell_type": "markdown",
   "id": "8a42469e",
   "metadata": {},
   "source": [
    "## Aufgabe 02.4.2\n",
    "Wir sind an der Häufigkeit von bestimmten Wörtern in einem Text interessiert. Implementiere eine Funktion *count_words*, die folgende Parameter übergeben bekommt:\n",
    "- `text`: Das ist der gesamte Text\n",
    "- `pattern`: Wort, nachdem gesucht werden soll\n",
    "\n",
    "Diese Funktion soll dann die Häufigkeit retournieren, wie oft `pattern` in String `text` enthalten ist. Bspw. sollte dieser Aufruf als Ergebnis die Zahl 3 liefern:\n",
    "````python\n",
    "count_words(\"hallo hallo Hallo Welt\", \"Hallo\")\n",
    "````\n",
    "\n",
    "**Wichtig**: Hierbei soll Groß- und Kleinschreibung ignoriert werden, du kannst hierfür die `.lower()`-Funktion verwenden.\n",
    "\n",
    "Als Arbeitsgrundlage ist der Text von Faust (https://www.gutenberg.org/cache/epub/2229/pg2229.txt, Download siehe Lehre-Plattform) zu verwenden. Ermittle, wie oft die Wörter \"Faust\", \"Gretchen\" und \"Mephisto\" im Text vorkommen. Wie man eine txt-Datei einliest, ist hier dokumentiert: https://docs.python.org/3/tutorial/inputoutput.html#reading-and-writing-files Im Prinzip wie bei einer CSV mit `with open(...) as file:`. Library muss keine eingebunden werden.\n",
    "\n",
    "**Hinweise**: \n",
    "- Die Lizenzhinweise mit am Anfang des Buches/Textes zählen wir jetzt mal mit zum Buch.\n",
    "- Mit `.count('xy')` wird ausgegeben, wie oft der Teilstring xy in einem String vorkommt. Achtung: Diese Funktion unterscheidet zwischen Groß- und Kleinschreibung!"
   ]
  },
  {
   "cell_type": "code",
   "execution_count": 160,
   "id": "541b70ec",
   "metadata": {},
   "outputs": [
    {
     "name": "stdout",
     "output_type": "stream",
     "text": [
      "Das Wort 'Faust' kommt 278 Mal im Text vor.\n",
      "Das Wort 'Gretchen' kommt 39 Mal im Text vor.\n",
      "Das Wort 'Mephisto' kommt 284 Mal im Text vor.\n"
     ]
    }
   ],
   "source": [
    "def count_words(text, pattern):\n",
    "    text_lower = text.lower()\n",
    "    pattern_lower = pattern.lower()\n",
    "    \n",
    "    return text_lower.count(pattern_lower)\n",
    "\n",
    "filename = 'faust.txt'\n",
    "\n",
    "with open(filename, 'r', encoding='utf-8') as file:\n",
    "    text = file.read()\n",
    "\n",
    "words_to_count = [\"Faust\", \"Gretchen\", \"Mephisto\"]\n",
    "\n",
    "\n",
    "for word in words_to_count:\n",
    "    count = count_words(text, word)\n",
    "    print(f\"Das Wort '{word}' kommt {count} Mal im Text vor.\")\n"
   ]
  }
 ],
 "metadata": {
  "kernelspec": {
   "display_name": "Python 3 (ipykernel)",
   "language": "python",
   "name": "python3"
  },
  "language_info": {
   "codemirror_mode": {
    "name": "ipython",
    "version": 3
   },
   "file_extension": ".py",
   "mimetype": "text/x-python",
   "name": "python",
   "nbconvert_exporter": "python",
   "pygments_lexer": "ipython3",
   "version": "3.12.4"
  }
 },
 "nbformat": 4,
 "nbformat_minor": 5
}
