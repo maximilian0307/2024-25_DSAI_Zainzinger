{
 "cells": [
  {
   "cell_type": "markdown",
   "metadata": {},
   "source": [
    "# Pandas Exercises 1\n",
    "Arbeiten Sie nachfolgenden Aufgabenstellungen durch und dokumentieren Sie, wenn notwendig, ihre Erkenntnisse. \n",
    "\n",
    "\n",
    "Importieren Sie *pandas*."
   ]
  },
  {
   "cell_type": "code",
   "execution_count": 2,
   "metadata": {},
   "outputs": [],
   "source": [
    "import pandas as pd"
   ]
  },
  {
   "cell_type": "markdown",
   "metadata": {},
   "source": [
    "## Task 1\n",
    "Erstellen Sie mit `data` ein *Series*-Objekt und geben Sie dessen Werte sowie Indizes aus. Zeigen Sie außerdem, dass\n",
    "- das erstellte Objekt vom Typ *Series* und\n",
    "- die Werte vom Typ *numpy*\n",
    "sind."
   ]
  },
  {
   "cell_type": "code",
   "execution_count": 6,
   "metadata": {},
   "outputs": [
    {
     "name": "stdout",
     "output_type": "stream",
     "text": [
      "Series-Werte:\n",
      " [11 28 72  3  5  8]\n",
      "Series-Indizes:\n",
      " RangeIndex(start=0, stop=6, step=1)\n",
      "Ist series_data ein Series-Objekt? True\n",
      "Sind die Werte vom Typ numpy? True\n"
     ]
    }
   ],
   "source": [
    "import numpy as np\n",
    "data = [11, 28, 72, 3, 5, 8]\n",
    "series_data = pd.Series(data)\n",
    "\n",
    "# Ausgabe der Werte und Indizes\n",
    "print(\"Series-Werte:\\n\", series_data.values)\n",
    "print(\"Series-Indizes:\\n\", series_data.index)\n",
    "\n",
    "# Überprüfung des Typs\n",
    "print(\"Ist series_data ein Series-Objekt?\", isinstance(series_data, pd.Series))\n",
    "print(\"Sind die Werte vom Typ numpy?\", isinstance(series_data.values, np.ndarray))"
   ]
  },
  {
   "cell_type": "markdown",
   "metadata": {},
   "source": [
    "## Task 2\n",
    "Erstellen Sie mit `quantities` eine *Series*. Verwenden Sie hierbei `fruits` als Indizes. Gesuchtes Ergebnis:\n",
    "\n",
    "```python\n",
    "apples      20\n",
    "oranges     23\n",
    "cherries    45\n",
    "pears       10\n",
    "dtype: int64\n",
    "```"
   ]
  },
  {
   "cell_type": "code",
   "execution_count": 8,
   "metadata": {},
   "outputs": [
    {
     "name": "stdout",
     "output_type": "stream",
     "text": [
      "\n",
      "Series mit Früchten und Mengen:\n",
      " apples      20\n",
      "oranges     23\n",
      "cherries    45\n",
      "pears       10\n",
      "dtype: int64\n"
     ]
    }
   ],
   "source": [
    "fruits = ['apples', 'oranges', 'cherries', 'pears']\n",
    "quantities = [20, 23, 45, 10]\n",
    "\n",
    "series_fruits = pd.Series(quantities, index=fruits)\n",
    "print(\"\\nSeries mit Früchten und Mengen:\\n\", series_fruits)\n"
   ]
  },
  {
   "cell_type": "markdown",
   "metadata": {},
   "source": [
    "## Task 3\n",
    "Man kann zwei *Series*-Objekte (mit denselben Indizes) addieren. Das Ergebnis ist ein neues *Series*-Objekt. Addieren sie die Quantities `q1` und `q2`. Bilden Sie außerdem die Summe der beiden *Series*-Objekte. Gesuchtes Ergebnis:\n",
    "\n",
    "```python\n",
    "apples      30\n",
    "oranges     36\n",
    "cherries    70\n",
    "pears       11\n",
    "dtype: int64\n",
    "Summe: 147\n",
    "```"
   ]
  },
  {
   "cell_type": "code",
   "execution_count": 14,
   "metadata": {},
   "outputs": [
    {
     "name": "stdout",
     "output_type": "stream",
     "text": [
      "\n",
      "Addition der beiden Series:\n",
      " apples      30\n",
      "oranges     36\n",
      "cherries    70\n",
      "pears       11\n",
      "dtype: int64\n",
      "Summe aller Werte: 147\n"
     ]
    }
   ],
   "source": [
    "# Task 3\n",
    "q1 = pd.Series([20, 23, 45, 10], index=fruits)\n",
    "q2 = pd.Series([10, 13, 25, 1], index=fruits)\n",
    "\n",
    "result = q1 + q2\n",
    "print(\"\\nAddition der beiden Series:\\n\", result)\n",
    "print(\"Summe aller Werte:\", result.sum())\n",
    "\n"
   ]
  },
  {
   "cell_type": "markdown",
   "metadata": {},
   "source": [
    "## Task 4\n",
    "Index-basierter Zugriff erfolgt mit (zwei) eckigen Klammern (z.B. `my_series['foo']` oder `my_series[['foo', 'bar']]`) Geben Sie a) die Anzahl der *Äpfel* aus. Geben Sie b) die Anzahl der *Äpfel*, *Orangen* und *Kirschen* aus. "
   ]
  },
  {
   "cell_type": "code",
   "execution_count": 12,
   "metadata": {},
   "outputs": [
    {
     "name": "stdout",
     "output_type": "stream",
     "text": [
      "\n",
      "Anzahl der Äpfel: 20\n",
      "\n",
      "Anzahl der Äpfel, Orangen und Kirschen:\n",
      " apples      20\n",
      "oranges     23\n",
      "cherries    45\n",
      "dtype: int64\n"
     ]
    }
   ],
   "source": [
    "# Task 4\n",
    "print(\"\\nAnzahl der Äpfel:\", series_fruits['apples'])\n",
    "\n",
    "subset = series_fruits[['apples', 'oranges', 'cherries']]\n",
    "print(\"\\nAnzahl der Äpfel, Orangen und Kirschen:\\n\", subset)\n"
   ]
  },
  {
   "cell_type": "markdown",
   "metadata": {},
   "source": [
    "## Task 5\n",
    "Ein Problem bei Aufgaben in der Datenanalyse besteht in fehlenden Daten. Gegeben ist das Dictionary `cities`, das für ausgewählte Städte die Einwohnerzahl bereithält. a) Erstellen Sie daraus eine *Series* und geben Sie dieses aus. "
   ]
  },
  {
   "cell_type": "code",
   "execution_count": 16,
   "metadata": {},
   "outputs": [
    {
     "name": "stdout",
     "output_type": "stream",
     "text": [
      "\n",
      "Series aus Dictionary:\n",
      " London       8615246\n",
      "Berlin       3562166\n",
      "Madrid       3165235\n",
      "Rome         2874038\n",
      "Paris        2273305\n",
      "Vienna       1805681\n",
      "Bucharest    1803425\n",
      "Hamburg      1760433\n",
      "Budapest     1754000\n",
      "Warsaw       1740119\n",
      "Barcelona    1602386\n",
      "Munich       1493900\n",
      "Milan        1350690\n",
      "dtype: int64\n"
     ]
    }
   ],
   "source": [
    "cities = {\n",
    "    'London': 8615246,\n",
    "    'Berlin': 3562166,\n",
    "    'Madrid': 3165235,\n",
    "    'Rome': 2874038,\n",
    "    'Paris': 2273305,\n",
    "    'Vienna': 1805681,\n",
    "    'Bucharest': 1803425,\n",
    "    'Hamburg': 1760433,\n",
    "    'Budapest': 1754000,\n",
    "    'Warsaw': 1740119,\n",
    "    'Barcelona': 1602386,\n",
    "    'Munich': 1493900,\n",
    "    'Milan': 1350690\n",
    "}\n",
    "\n",
    "cities_series = pd.Series(cities)\n",
    "print(\"\\nSeries aus Dictionary:\\n\", cities_series)\n"
   ]
  },
  {
   "cell_type": "markdown",
   "metadata": {},
   "source": [
    "Erstellen Sie b) zwei weitere *Series*-Objekte, die aber mit `my_cities1` und `my_cities2` neue Indizes verwenden. Wie intrepretieren Sie das Ergebnis, was fällt Ihnen auf?"
   ]
  },
  {
   "cell_type": "code",
   "execution_count": 18,
   "metadata": {},
   "outputs": [
    {
     "name": "stdout",
     "output_type": "stream",
     "text": [
      "\n",
      "my_series1 mit neuen Indizes:\n",
      " London       8615246.0\n",
      "Paris        2273305.0\n",
      "Zurich             NaN\n",
      "Berlin       3562166.0\n",
      "Stuttgart          NaN\n",
      "Hamburg      1760433.0\n",
      "dtype: float64\n",
      "\n",
      "my_series2 mit neuen Indizes:\n",
      " London     8615246\n",
      "Paris      2273305\n",
      "Berlin     3562166\n",
      "Hamburg    1760433\n",
      "dtype: int64\n"
     ]
    }
   ],
   "source": [
    "my_cities1 = ['London', 'Paris', 'Zurich', 'Berlin', 'Stuttgart', 'Hamburg']\n",
    "my_cities2 = ['London', 'Paris', 'Berlin', 'Hamburg']\n",
    "\n",
    "my_series1 = pd.Series(cities_series, index=my_cities1)\n",
    "my_series2 = pd.Series(cities_series, index=my_cities2)\n",
    "\n",
    "print(\"\\nmy_series1 mit neuen Indizes:\\n\", my_series1)\n",
    "print(\"\\nmy_series2 mit neuen Indizes:\\n\", my_series2)"
   ]
  },
  {
   "cell_type": "markdown",
   "metadata": {},
   "source": [
    "`nan`steht für *not a number*, was als \"fehlt\" zu verstehen ist. Mit den Methoden `isnull`und `notnull` kann man auf fehlende Werte überprüfen. Führen Sie c) diese Überprüfung durch, sodass folgendes Ergebnis zu Buche steht:\n",
    "\n",
    "```Python\n",
    "London       False\n",
    "Paris        False\n",
    "Zurich        True\n",
    "Berlin       False\n",
    "Stuttgart     True\n",
    "Hamburg      False\n",
    "dtype: bool\n",
    "```"
   ]
  },
  {
   "cell_type": "code",
   "execution_count": 20,
   "metadata": {},
   "outputs": [
    {
     "name": "stdout",
     "output_type": "stream",
     "text": [
      "\n",
      "Fehlende Werte in my_series1:\n",
      " London       False\n",
      "Paris        False\n",
      "Zurich        True\n",
      "Berlin       False\n",
      "Stuttgart     True\n",
      "Hamburg      False\n",
      "dtype: bool\n"
     ]
    }
   ],
   "source": [
    "print(\"\\nFehlende Werte in my_series1:\\n\", my_series1.isnull())"
   ]
  },
  {
   "cell_type": "markdown",
   "metadata": {},
   "source": [
    "Filtern Sie d) die fehlende Werte mit `dropna()`. Gesuchtes Ergebnis:\n",
    "```python\n",
    "London     8615246.0\n",
    "Paris      2273305.0\n",
    "Berlin     3562166.0\n",
    "Hamburg    1760433.0\n",
    "dtype: float64\n",
    "```"
   ]
  },
  {
   "cell_type": "code",
   "execution_count": 22,
   "metadata": {},
   "outputs": [
    {
     "name": "stdout",
     "output_type": "stream",
     "text": [
      "\n",
      "Gefilterte Series ohne fehlende Werte:\n",
      " London     8615246.0\n",
      "Paris      2273305.0\n",
      "Berlin     3562166.0\n",
      "Hamburg    1760433.0\n",
      "dtype: float64\n"
     ]
    }
   ],
   "source": [
    "filtered_series = my_series1.dropna()\n",
    "print(\"\\nGefilterte Series ohne fehlende Werte:\\n\", filtered_series)"
   ]
  },
  {
   "cell_type": "markdown",
   "metadata": {},
   "source": [
    "Fehlende Daten müssen nicht immer gefiltert werden – oft ist es sinnvoller, diese durch 'passende' Werte zu ersetzen. Mit der Methode `fillna()` können fehlende Werte einfach aufgefüllt werden. Ein naheliegendes Beispiel wäre das Ersetzen aller fehlenden Werte durch '0'. Setzen Sie e) diese Methode in Ihrem Code um:\n",
    "\n",
    "```Python\n",
    "London       8615246.0\n",
    "Paris        2273305.0\n",
    "Zurich             0.0\n",
    "Berlin       3562166.0\n",
    "Stuttgart          0.0\n",
    "Hamburg      1760433.0\n",
    "dtype: float64\n",
    "```"
   ]
  },
  {
   "cell_type": "code",
   "execution_count": 26,
   "metadata": {},
   "outputs": [
    {
     "name": "stdout",
     "output_type": "stream",
     "text": [
      "\n",
      "Series mit aufgefüllten fehlenden Werten:\n",
      " London       8615246.0\n",
      "Paris        2273305.0\n",
      "Zurich             0.0\n",
      "Berlin       3562166.0\n",
      "Stuttgart          0.0\n",
      "Hamburg      1760433.0\n",
      "dtype: float64\n"
     ]
    }
   ],
   "source": [
    "filled_series = my_series1.fillna(0)\n",
    "print(\"\\nSeries mit aufgefüllten fehlenden Werten:\\n\", filled_series)"
   ]
  },
  {
   "cell_type": "markdown",
   "metadata": {},
   "source": [
    "## Task 6\n",
    "Ein DataFrame in Pandas besteht aus einem Zeilen- und Spaltenindex, der die Struktur der Daten definiert. Um mehrere Series-Objekte zu einem DataFrame zu kombinieren, bietet Pandas die Methode `concat()` an (siehe Dokumentation). Erstellen Sie in Aufgabe a) das DataFrame `shops_df`, indem Sie die drei Series-Objekte zusammenfügen. Das Ergebnis sollte im ersten Schritt wie folgt aussehen:\n",
    "\n",
    "```Python\n",
    "2014    2409.14\n",
    "2015    2941.01\n",
    "2016    3496.83\n",
    "2017    3119.55\n",
    "2014    1203.45\n",
    "2015    3441.62\n",
    "2016    3007.83\n",
    "2017    3619.53\n",
    "2014    3412.12\n",
    "2015    3491.16\n",
    "2016    3457.19\n",
    "2017    1963.10\n",
    "dtype: float64\n",
    "```"
   ]
  },
  {
   "cell_type": "code",
   "execution_count": 32,
   "metadata": {},
   "outputs": [
    {
     "name": "stdout",
     "output_type": "stream",
     "text": [
      "\n",
      "DataFrame (Series untereinander angefügt):\n",
      " 2014    2409.14\n",
      "2015    2941.01\n",
      "2016    3496.83\n",
      "2017    3119.55\n",
      "2014    1203.45\n",
      "2015    3441.62\n",
      "2016    3007.83\n",
      "2017    3619.53\n",
      "2014    3412.12\n",
      "2015    3491.16\n",
      "2016    3457.19\n",
      "2017    1963.10\n",
      "dtype: float64\n"
     ]
    }
   ],
   "source": [
    "#Die Jahre 2014, 2015, 2016 und 2017 erstellen, die als Index einer Series dienen:\n",
    "years = range(2014, 2018)\n",
    "\n",
    "shop1 = pd.Series([2409.14, 2941.01, 3496.83, 3119.55], index=years)\n",
    "shop2 = pd.Series([1203.45, 3441.62, 3007.83, 3619.53], index=years)\n",
    "shop3 = pd.Series([3412.12, 3491.16, 3457.19, 1963.10], index=years)\n",
    "\n",
    "shops_df = pd.concat([shop1, shop2, shop3])\n",
    "\n",
    "# Ausgabe des kombinierten DataFrames\n",
    "print(\"\\nDataFrame (Series untereinander angefügt):\\n\", shops_df)\n"
   ]
  },
  {
   "cell_type": "markdown",
   "metadata": {},
   "source": [
    "Das Ergebnis ist mehr oder weniger unbrauchbar. Der Grund: `concat` verwendet als Default-Wert für den *axis*-Paramter den Wert 0. Das bedeutet, es wird Zeile um Zeile (der jeweiligen *Series*) aneinandergefügt (vgl. NumPy-Einführung, Leserichtung bei 2D-Tensoren). Abhilfe schafft eine spaltenweise \"Additiion\" der einzelnen *Series'*. Die Umsetzung erfolgt mit dem Argument `axis=1` bei `concat`. Verwenden Sie b) das `axis=1`-Argument beim Zusammenfügen der *Series'*. Das Ergebnis:\n",
    "\n",
    "```Python\n",
    "            0        1        2\n",
    "2014  2409.14  1203.45  3412.12\n",
    "2015  2941.01  3441.62  3491.16\n",
    "2016  3496.83  3007.83  3457.19\n",
    "2017  3119.55  3619.53  1963.10\n",
    "```"
   ]
  },
  {
   "cell_type": "code",
   "execution_count": 34,
   "metadata": {},
   "outputs": [
    {
     "name": "stdout",
     "output_type": "stream",
     "text": [
      "DataFrame (spaltenweise kombiniert):\n",
      "             0        1        2\n",
      "2014  2409.14  1203.45  3412.12\n",
      "2015  2941.01  3441.62  3491.16\n",
      "2016  3496.83  3007.83  3457.19\n",
      "2017  3119.55  3619.53  1963.10\n"
     ]
    }
   ],
   "source": [
    "shops_df = pd.concat([shop1, shop2, shop3], axis=1)\n",
    "\n",
    "# Ausgabe des kombinierten DataFrames\n",
    "print(\"DataFrame (spaltenweise kombiniert):\\n\", shops_df)\n"
   ]
  },
  {
   "cell_type": "markdown",
   "metadata": {},
   "source": [
    "Die bisher erzielte Darstellung der Daten ist deutlich übersichtlicher, allerdings sind die Spaltennamen noch nicht optimal. Ein DataFrame verfügt über das Property `columns`, mit dem die Spaltennamen einfach angepasst werden können. Dazu können Sie eine neue Liste mit Spaltennamen (z.B. die Liste `cities`) zuweisen. Setzen Sie in Aufgabe c) diese Anpassung um, indem Sie dem DataFrame `shops_df` die neuen Spaltenbezeichner zuweisen. Das Ergebnis sollte wie folgt aussehen:\n",
    "\n",
    "```Python\n",
    "         Wien     Graz  Salzburg\n",
    "2014  2409.14  1203.45   3412.12\n",
    "2015  2941.01  3441.62   3491.16\n",
    "2016  3496.83  3007.83   3457.19\n",
    "2017  3119.55  3619.53   1963.10\n",
    "```"
   ]
  },
  {
   "cell_type": "code",
   "execution_count": 36,
   "metadata": {},
   "outputs": [
    {
     "name": "stdout",
     "output_type": "stream",
     "text": [
      "\n",
      "DataFrame mit neuen Spaltennamen:\n",
      "          Wien     Graz  Salzburg\n",
      "2014  2409.14  1203.45   3412.12\n",
      "2015  2941.01  3441.62   3491.16\n",
      "2016  3496.83  3007.83   3457.19\n",
      "2017  3119.55  3619.53   1963.10\n"
     ]
    }
   ],
   "source": [
    "shops_df.columns = ['Wien', 'Graz', 'Salzburg']\n",
    "\n",
    "# Ausgabe des aktualisierten DataFrames\n",
    "print(\"\\nDataFrame mit neuen Spaltennamen:\\n\", shops_df)"
   ]
  },
  {
   "cell_type": "markdown",
   "metadata": {},
   "source": [
    "Geben Sie d) die Inhalte der Spalte \"Graz\" aus und vergewissern Sie sich, ob die Spalte vom Typ *Series* ist."
   ]
  },
  {
   "cell_type": "code",
   "execution_count": 38,
   "metadata": {},
   "outputs": [
    {
     "name": "stdout",
     "output_type": "stream",
     "text": [
      "\n",
      "Inhalte der Spalte 'Graz':\n",
      " 2014    1203.45\n",
      "2015    3441.62\n",
      "2016    3007.83\n",
      "2017    3619.53\n",
      "Name: Graz, dtype: float64\n",
      "\n",
      "Ist 'Graz' vom Typ Series? True\n"
     ]
    }
   ],
   "source": [
    "graz_column = shops_df['Graz']\n",
    "\n",
    "# Ausgabe der Spalte \"Graz\"\n",
    "print(\"\\nInhalte der Spalte 'Graz':\\n\", graz_column)\n",
    "\n",
    "# Überprüfung, ob die Spalte ein Series-Objekt ist\n",
    "print(\"\\nIst 'Graz' vom Typ Series?\", isinstance(graz_column, pd.Series))"
   ]
  }
 ],
 "metadata": {
  "kernelspec": {
   "display_name": "Python 3 (ipykernel)",
   "language": "python",
   "name": "python3"
  },
  "language_info": {
   "codemirror_mode": {
    "name": "ipython",
    "version": 3
   },
   "file_extension": ".py",
   "mimetype": "text/x-python",
   "name": "python",
   "nbconvert_exporter": "python",
   "pygments_lexer": "ipython3",
   "version": "3.12.4"
  }
 },
 "nbformat": 4,
 "nbformat_minor": 4
}
