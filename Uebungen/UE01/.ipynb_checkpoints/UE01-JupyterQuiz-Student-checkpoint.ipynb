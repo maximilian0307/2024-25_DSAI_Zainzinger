{
 "cells": [
  {
   "cell_type": "markdown",
   "id": "c60afcc2-3d2b-4fea-8762-5ac95a8010f1",
   "metadata": {},
   "source": [
    "# Beantworten Sie nachfolgende Fragen\n",
    "Die Verwendung generativer KI ist nicht erlaubt. Es gilt eine klassische Online-Recherche - Google is your friend - anzustellen."
   ]
  },
  {
   "cell_type": "markdown",
   "id": "71230826-784a-4a7d-9e56-e0de5c26ce6e",
   "metadata": {},
   "source": [
    "1. **Was ist das Hauptmerkmal eines Jupyter Notebooks?**\n",
    "   - a) Es ist eine Textverarbeitungssoftware\n",
    "   - b) Es ermöglicht das Schreiben und Ausführen von Code in interaktiven Zellen\n",
    "   - c) Es ist eine Tabellenkalkulationssoftware\n",
    "   - d) Es ist ein Compiler für Python"
   ]
  },
  {
   "cell_type": "markdown",
   "id": "8f366daa-3323-472a-962c-45f1f206fdb8",
   "metadata": {},
   "source": [
    "Antwort:b"
   ]
  },
  {
   "cell_type": "markdown",
   "id": "542bed8b-d3d2-4385-853d-b6b599a36ef5",
   "metadata": {
    "tags": []
   },
   "source": [
    "2. **Welche Dateiendung haben Jupyter Notebooks standardmäßig?**\n",
    "   - a) .py\n",
    "   - b) .txt\n",
    "   - c) .ipynb\n",
    "   - d) .html"
   ]
  },
  {
   "cell_type": "markdown",
   "id": "2cb2349e-40ea-475c-a979-324a2f16957a",
   "metadata": {},
   "source": [
    "Antwort:c"
   ]
  },
  {
   "cell_type": "markdown",
   "id": "e339e940-28dd-4eed-9228-7fc915c25500",
   "metadata": {},
   "source": [
    "3. **Welche der folgenden Zellenarten gibt es in einem Jupyter Notebook?**\n",
    "   - a) Textzelle und Diagrammzelle\n",
    "   - b) Markdownzelle und Codezelle\n",
    "   - c) Diagrammzelle und Audiozelle\n",
    "   - d) Codezelle und Grafikzelle"
   ]
  },
  {
   "cell_type": "markdown",
   "id": "8f2ec1f7-3d3a-4bcb-8589-dd2a856852df",
   "metadata": {},
   "source": [
    "Antwort:b"
   ]
  },
  {
   "cell_type": "markdown",
   "id": "73727f16-5c04-48d0-99bf-d67465464c58",
   "metadata": {},
   "source": [
    "4. **Was passiert, wenn Sie eine Zelle in einem Jupyter Notebook ausführen?**\n",
    "   - a) Der gesamte Notebook wird neu gestartet\n",
    "   - b) Nur der Code in der aktuellen Zelle wird ausgeführt\n",
    "   - c) Alle Zellen werden ausgeführt\n",
    "   - d) Die Zelle wird gelöscht"
   ]
  },
  {
   "cell_type": "markdown",
   "id": "929d0e46-a3c1-41ca-8431-471d0cf36b04",
   "metadata": {},
   "source": [
    "Antwort:b"
   ]
  },
  {
   "cell_type": "markdown",
   "id": "8ea07aec-acea-4368-b2af-1a1423fb17b0",
   "metadata": {},
   "source": [
    "5. **Wie kann man in einem Jupyter Notebook eine neue Zelle hinzufügen?**\n",
    "   - a) Mit dem Befehl `cell.new()`\n",
    "   - b) Über das Menü \"Insert\" oder durch Drücken der Taste \"B\"\n",
    "   - c) Durch Doppelklicken auf eine bestehende Zelle\n",
    "   - d) Durch Rechtsklick auf eine Zelle und Auswahl von \"Duplicate\""
   ]
  },
  {
   "cell_type": "markdown",
   "id": "ae9d7867-ef31-45a6-93f0-58d8ad7d17b8",
   "metadata": {},
   "source": [
    "Antwort: b"
   ]
  },
  {
   "cell_type": "markdown",
   "id": "0f2561a5-a977-48d9-a043-2121e256395f",
   "metadata": {},
   "source": [
    "\n",
    "6. **Wahr oder Falsch: In einem Jupyter Notebook können Zellen beliebig oft ausgeführt werden.**\n",
    "   - Wahr\n",
    "   - Falsch"
   ]
  },
  {
   "cell_type": "markdown",
   "id": "6aeafdc9-b0ba-40d0-bb70-991dd355a133",
   "metadata": {},
   "source": [
    "Antwort: wahr"
   ]
  },
  {
   "cell_type": "markdown",
   "id": "d75e0d13-e210-428d-bdf2-0d8697d4d596",
   "metadata": {
    "tags": []
   },
   "source": [
    "7. **Wahr oder Falsch: Jupyter Notebooks unterstützen ausschließlich die Programmiersprache Python.**\n",
    "   - Wahr\n",
    "   - Falsch"
   ]
  },
  {
   "cell_type": "markdown",
   "id": "8e2aacd2-e092-4829-9609-174d93db7095",
   "metadata": {},
   "source": [
    "Antwort: falsch"
   ]
  },
  {
   "cell_type": "markdown",
   "id": "aa47661c-7b6f-4cc3-8620-941792092c71",
   "metadata": {},
   "source": [
    "8. **Wahr oder Falsch: In einem Jupyter Notebook kann man Markdown verwenden, um formatierte Texte, Listen und Überschriften zu erstellen.**\n",
    "   - Wahr\n",
    "   - Falsch"
   ]
  },
  {
   "cell_type": "markdown",
   "id": "89e96d6c-79e4-42ba-9b71-06424b3f6e6e",
   "metadata": {},
   "source": [
    "Antwort: wahr"
   ]
  },
  {
   "cell_type": "markdown",
   "id": "295e3a12-16e3-4ca5-8b4f-d72206eff418",
   "metadata": {},
   "source": [
    "9. **Was bedeutet die Abkürzung \"Jupyter\" im Kontext von Jupyter Notebooks?**"
   ]
  },
  {
   "cell_type": "markdown",
   "id": "1619f6b4-2613-4990-9229-1efbe4ee9e61",
   "metadata": {},
   "source": [
    "Antwort:  steht für die drei Kernsprachen Julia, Python, R"
   ]
  },
  {
   "cell_type": "markdown",
   "id": "1cf2d1f0-f200-49c8-a819-ebc92574bd6c",
   "metadata": {},
   "source": [
    "10. **Wie können Sie in einem Jupyter Notebook eine Zelle in den Markdown-Modus versetzen?**"
   ]
  },
  {
   "cell_type": "markdown",
   "id": "7b22529d-17ff-4ae0-979e-b0123b05872d",
   "metadata": {},
   "source": [
    "Antwort: Zeile auswählen und M drücken"
   ]
  },
  {
   "cell_type": "markdown",
   "id": "47f8b4fd-f4cd-43e9-853a-5dd379035d38",
   "metadata": {},
   "source": [
    "11. **Welche Vorteile bietet die Ausführung von Zellen in einem Jupyter Notebook im Vergleich zur Ausführung eines gesamten Python-Skripts?**"
   ]
  },
  {
   "cell_type": "markdown",
   "id": "a4164a14-4060-4839-8cd3-e03d43a7d0c4",
   "metadata": {},
   "source": [
    "Antwort:Die Ausführung von Zellen in einem Jupyter Notebook bietet folgende Vorteile:\n",
    "\n",
    "Interaktive Entwicklung: Testen und Debuggen von Code in kleinen Abschnitten.\n",
    "Schrittweise Ausführung: Nur ausgewählte Zellen ausführen, ohne das gesamte Notebook zu durchlaufen.\n",
    "Sofortige Ergebnisse: Direkte Anzeige von Ausgaben und Diagrammen unter der jeweiligen Zelle.\n",
    "Dokumentation: Integration von erklärenden Texten und Visualisierungen direkt neben dem Code.\n",
    "Flexibilität: Wiederholte und flexible Ausführung von Code-Zellen."
   ]
  }
 ],
 "metadata": {
  "kernelspec": {
   "display_name": "Python 3 (ipykernel)",
   "language": "python",
   "name": "python3"
  },
  "language_info": {
   "codemirror_mode": {
    "name": "ipython",
    "version": 3
   },
   "file_extension": ".py",
   "mimetype": "text/x-python",
   "name": "python",
   "nbconvert_exporter": "python",
   "pygments_lexer": "ipython3",
   "version": "3.12.4"
  }
 },
 "nbformat": 4,
 "nbformat_minor": 5
}
