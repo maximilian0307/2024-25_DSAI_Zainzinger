{
 "cells": [
  {
   "cell_type": "markdown",
   "id": "9ef1f4f2",
   "metadata": {},
   "source": [
    "# UE08: EDA und Datenaufbereitung am Beispiel Titanic\n",
    "\n",
    "In dieser Übung führen wir eine explorative Datenanalyse (EDA) anhand des Titanic-Datensatzes durch. Ziel ist es, einen ersten Überblick über die Datenstruktur und deren Merkmale zu gewinnen. Wir beginnen mit einer allgemeinen Betrachtung des Datensatzes, gefolgt von einer univariaten Analyse einzelner Variablen. Anschließend untersuchen wir bivariate Zusammenhänge zwischen zwei Variablen, um Muster und Abhängigkeiten zu identifizieren. Schließlich bereinigen wir die Daten durch die Behandlung fehlender Werte und möglicher Ausreißer. Diese Schritte bilden die Grundlage für eine weiterführende Analyse und Modellierung der Daten.\n",
    "\n",
    "## 0. Das Dataset im Überblick\n",
    "- **PassengerId**: Eindeutige ID für jeden Passagier\n",
    "- **Survived**: 1 = Überlebt, 0 = Nicht überlebt\n",
    "- **Pclass**: Ticketklasse (1 = Erste Klasse, 2 = Zweite Klasse, 3 = Dritte Klasse)\n",
    "- **Sex**: Geschlecht\n",
    "- **Age**: Alter des Passagiers\n",
    "- **SibSp**: Anzahl der Geschwister/Ehepartner an Bord\n",
    "- **Parch**: Anzahl der Eltern/Kinder an Bord\n",
    "- **Ticket**: Ticketnummer\n",
    "- **Fare**: Ticketpreis\n",
    "- **Cabin**: Kabinennummer\n",
    "- **Embarked**: Hafen, an dem der Passagier eingestiegen ist (C = Cherbourg, Q = Queenstown, S = Southampton)\n",
    "\n",
    "## 1. Datenverständnis und Überblick\n",
    "\n",
    "- Laden des Titanic-Datensatzes.\n",
    "- Überblick über die Struktur der Daten mit `head()`usw.\n",
    "- Identifikation von numerischen und kategorialen Variablen."
   ]
  },
  {
   "cell_type": "code",
   "execution_count": 1,
   "id": "78372794",
   "metadata": {},
   "outputs": [],
   "source": [
    "import pandas as pd\n",
    "import matplotlib.pyplot as plt \n",
    "import seaborn as sns  \n",
    "import numpy as np"
   ]
  },
  {
   "cell_type": "code",
   "execution_count": 2,
   "id": "90ecd27a",
   "metadata": {},
   "outputs": [
    {
     "data": {
      "text/html": [
       "<div>\n",
       "<style scoped>\n",
       "    .dataframe tbody tr th:only-of-type {\n",
       "        vertical-align: middle;\n",
       "    }\n",
       "\n",
       "    .dataframe tbody tr th {\n",
       "        vertical-align: top;\n",
       "    }\n",
       "\n",
       "    .dataframe thead th {\n",
       "        text-align: right;\n",
       "    }\n",
       "</style>\n",
       "<table border=\"1\" class=\"dataframe\">\n",
       "  <thead>\n",
       "    <tr style=\"text-align: right;\">\n",
       "      <th></th>\n",
       "      <th>PassengerId</th>\n",
       "      <th>Survived</th>\n",
       "      <th>Pclass</th>\n",
       "      <th>Name</th>\n",
       "      <th>Sex</th>\n",
       "      <th>Age</th>\n",
       "      <th>SibSp</th>\n",
       "      <th>Parch</th>\n",
       "      <th>Ticket</th>\n",
       "      <th>Fare</th>\n",
       "      <th>Cabin</th>\n",
       "      <th>Embarked</th>\n",
       "    </tr>\n",
       "  </thead>\n",
       "  <tbody>\n",
       "    <tr>\n",
       "      <th>0</th>\n",
       "      <td>1</td>\n",
       "      <td>0</td>\n",
       "      <td>3</td>\n",
       "      <td>Braund, Mr. Owen Harris</td>\n",
       "      <td>male</td>\n",
       "      <td>22.0</td>\n",
       "      <td>1</td>\n",
       "      <td>0</td>\n",
       "      <td>A/5 21171</td>\n",
       "      <td>7.2500</td>\n",
       "      <td>NaN</td>\n",
       "      <td>S</td>\n",
       "    </tr>\n",
       "    <tr>\n",
       "      <th>1</th>\n",
       "      <td>2</td>\n",
       "      <td>1</td>\n",
       "      <td>1</td>\n",
       "      <td>Cumings, Mrs. John Bradley (Florence Briggs Th...</td>\n",
       "      <td>female</td>\n",
       "      <td>38.0</td>\n",
       "      <td>1</td>\n",
       "      <td>0</td>\n",
       "      <td>PC 17599</td>\n",
       "      <td>71.2833</td>\n",
       "      <td>C85</td>\n",
       "      <td>C</td>\n",
       "    </tr>\n",
       "    <tr>\n",
       "      <th>2</th>\n",
       "      <td>3</td>\n",
       "      <td>1</td>\n",
       "      <td>3</td>\n",
       "      <td>Heikkinen, Miss. Laina</td>\n",
       "      <td>female</td>\n",
       "      <td>26.0</td>\n",
       "      <td>0</td>\n",
       "      <td>0</td>\n",
       "      <td>STON/O2. 3101282</td>\n",
       "      <td>7.9250</td>\n",
       "      <td>NaN</td>\n",
       "      <td>S</td>\n",
       "    </tr>\n",
       "    <tr>\n",
       "      <th>3</th>\n",
       "      <td>4</td>\n",
       "      <td>1</td>\n",
       "      <td>1</td>\n",
       "      <td>Futrelle, Mrs. Jacques Heath (Lily May Peel)</td>\n",
       "      <td>female</td>\n",
       "      <td>35.0</td>\n",
       "      <td>1</td>\n",
       "      <td>0</td>\n",
       "      <td>113803</td>\n",
       "      <td>53.1000</td>\n",
       "      <td>C123</td>\n",
       "      <td>S</td>\n",
       "    </tr>\n",
       "    <tr>\n",
       "      <th>4</th>\n",
       "      <td>5</td>\n",
       "      <td>0</td>\n",
       "      <td>3</td>\n",
       "      <td>Allen, Mr. William Henry</td>\n",
       "      <td>male</td>\n",
       "      <td>35.0</td>\n",
       "      <td>0</td>\n",
       "      <td>0</td>\n",
       "      <td>373450</td>\n",
       "      <td>8.0500</td>\n",
       "      <td>NaN</td>\n",
       "      <td>S</td>\n",
       "    </tr>\n",
       "  </tbody>\n",
       "</table>\n",
       "</div>"
      ],
      "text/plain": [
       "   PassengerId  Survived  Pclass  \\\n",
       "0            1         0       3   \n",
       "1            2         1       1   \n",
       "2            3         1       3   \n",
       "3            4         1       1   \n",
       "4            5         0       3   \n",
       "\n",
       "                                                Name     Sex   Age  SibSp  \\\n",
       "0                            Braund, Mr. Owen Harris    male  22.0      1   \n",
       "1  Cumings, Mrs. John Bradley (Florence Briggs Th...  female  38.0      1   \n",
       "2                             Heikkinen, Miss. Laina  female  26.0      0   \n",
       "3       Futrelle, Mrs. Jacques Heath (Lily May Peel)  female  35.0      1   \n",
       "4                           Allen, Mr. William Henry    male  35.0      0   \n",
       "\n",
       "   Parch            Ticket     Fare Cabin Embarked  \n",
       "0      0         A/5 21171   7.2500   NaN        S  \n",
       "1      0          PC 17599  71.2833   C85        C  \n",
       "2      0  STON/O2. 3101282   7.9250   NaN        S  \n",
       "3      0            113803  53.1000  C123        S  \n",
       "4      0            373450   8.0500   NaN        S  "
      ]
     },
     "execution_count": 2,
     "metadata": {},
     "output_type": "execute_result"
    }
   ],
   "source": [
    "df = pd.read_csv(\"titanic_train.csv\")\n",
    "\n",
    "df.head()  "
   ]
  },
  {
   "cell_type": "code",
   "execution_count": 4,
   "id": "8fe99bce",
   "metadata": {},
   "outputs": [
    {
     "name": "stdout",
     "output_type": "stream",
     "text": [
      "<class 'pandas.core.frame.DataFrame'>\n",
      "RangeIndex: 891 entries, 0 to 890\n",
      "Data columns (total 12 columns):\n",
      " #   Column       Non-Null Count  Dtype  \n",
      "---  ------       --------------  -----  \n",
      " 0   PassengerId  891 non-null    int64  \n",
      " 1   Survived     891 non-null    int64  \n",
      " 2   Pclass       891 non-null    int64  \n",
      " 3   Name         891 non-null    object \n",
      " 4   Sex          891 non-null    object \n",
      " 5   Age          714 non-null    float64\n",
      " 6   SibSp        891 non-null    int64  \n",
      " 7   Parch        891 non-null    int64  \n",
      " 8   Ticket       891 non-null    object \n",
      " 9   Fare         891 non-null    float64\n",
      " 10  Cabin        204 non-null    object \n",
      " 11  Embarked     889 non-null    object \n",
      "dtypes: float64(2), int64(5), object(5)\n",
      "memory usage: 83.7+ KB\n"
     ]
    }
   ],
   "source": [
    "df.info()  "
   ]
  },
  {
   "cell_type": "markdown",
   "id": "42150fe1",
   "metadata": {},
   "source": [
    "### Zusammenfassung von `df.info()`\n",
    "- Anzahl der Einträge insgesamt: 891  \n",
    "- Anzahl der Spalten (Features): 12  \n",
    "- Numerische Spalten (int64, float64): 7  \n",
    "- Kategorische/Objekt-Spalten: 5  \n",
    "- Fehlende Werte:  \n",
    "  - Age: 177 fehlende Werte (714/891 nicht-null) -> viel! \n",
    "  - Cabin: 687 fehlende Werte (204/891 nicht-null) -> sehr viel!\n",
    "  - Embarked: 2 fehlende Werte (889/891 nicht-null) -> wurscht! \n"
   ]
  },
  {
   "cell_type": "code",
   "execution_count": 13,
   "id": "02267564",
   "metadata": {},
   "outputs": [
    {
     "data": {
      "text/plain": [
       "array([0, 1, 2, 5, 3, 4, 6], dtype=int64)"
      ]
     },
     "execution_count": 13,
     "metadata": {},
     "output_type": "execute_result"
    }
   ],
   "source": [
    "#df.describe()  \n",
    "#df.nunique()\n",
    "df['Parch'].unique()"
   ]
  },
  {
   "cell_type": "markdown",
   "id": "18d6139c",
   "metadata": {},
   "source": [
    "## 2. Hypothesen testen\n",
    "\n",
    "1. Frauen hatten eine höhere Überlebensrate als Männer.\n",
    "       \n",
    "       - Begründung: Historisch gesehen wurden Frauen und Kinder bei der Evakuierung priorisiert („Women and children first“).\n",
    "       - Überprüfung: Vergleich der Überlebensraten zwischen Männern und Frauen.\n",
    "\n",
    "2. Passagiere der ersten Klasse hatten eine höhere Überlebenswahrscheinlichkeit als die der dritten Klasse.\n",
    "        \n",
    "       - Begründung: Personen in der ersten Klasse hatten besseren Zugang zu Rettungsbooten.\n",
    "       - Überprüfung: Analyse der Überlebensraten nach Ticketklasse (Pclass).\n",
    "\n",
    "3. Jüngere Passagiere hatten eine höhere Überlebenschance.\n",
    "\n",
    "        - Begründung: Kinder wurden bevorzugt gerettet.\n",
    "        - Überprüfung: Untersuchung der Altersverteilung zwischen Überlebenden und Nicht-Überlebenden.\n",
    "\n",
    "4. Der Ticketpreis (Fare) könnte mit der Überlebensrate korrelieren.\n",
    "    \n",
    "        - Begründung: Höhere Ticketpreise sind mit der ersten Klasse verbunden, die eine höhere Überlebenswahrscheinlichkeit hatte.\n",
    "        - Überprüfung: Korrelation zwischen Ticketpreis und Überlebensstatus.\n",
    "\n",
    "5. Passagiere, die alleine reisten, hatten eine geringere Überlebenschance.\n",
    "    \n",
    "        - Begründung: Familien könnten sich gegenseitig unterstützt haben.\n",
    "        - Überprüfung: Zusammenhang zwischen der Anzahl der Familienmitglieder an Bord (SibSp und Parch) und der Überlebensrate.\n",
    "\n",
    "\n",
    "> **Hinweis**: Für statistische Hypothesentests fehlende Werte nicht imputieren oder diese Zeilen entfernen.\n",
    "\n",
    "###  2.1 Test \"Frauen hatten eine höhere Überlebensrate als Männer\""
   ]
  },
  {
   "cell_type": "code",
   "execution_count": 22,
   "id": "3892312d",
   "metadata": {},
   "outputs": [
    {
     "data": {
      "text/plain": [
       "74.2"
      ]
     },
     "execution_count": 22,
     "metadata": {},
     "output_type": "execute_result"
    }
   ],
   "source": [
    " survival_rates_percentage.values[0]"
   ]
  },
  {
   "cell_type": "code",
   "execution_count": 8,
   "id": "4b87f610",
   "metadata": {},
   "outputs": [
    {
     "name": "stdout",
     "output_type": "stream",
     "text": [
      "Frauen 74.2% - Mänmer 18.89%.\n"
     ]
    },
    {
     "data": {
      "image/png": "[encoded data removed]",
      "text/plain": [
       "<Figure size 400x300 with 1 Axes>"
      ]
     },
     "metadata": {},
     "output_type": "display_data"
    }
   ],
   "source": [
    "survival_rates = df.groupby(\"Sex\")[\"Survived\"].mean()\n",
    "\n",
    "survival_rates_percentage = (survival_rates * 100).round(2)\n",
    "\n",
    "# Text-Ausgabe:\n",
    "print(f\"Frauen {survival_rates_percentage['female']}% - Mänmer {survival_rates_percentage['male']}%.\")\n",
    "\n",
    "# Grafische Ausgabe:\n",
    "plt.figure(figsize=(4, 3))\n",
    "plt.bar(survival_rates_percentage.index, survival_rates_percentage.values, color=[\"lightblue\", \"lightcoral\"])\n",
    "plt.xlabel(\"Geschlecht\")\n",
    "plt.ylabel(\"Überlebensrate [%]\")\n",
    "plt.title(\"Überlebensrate nach Geschlecht\")\n",
    "plt.show()"
   ]
  },
  {
   "cell_type": "code",
   "execution_count": 6,
   "id": "fb4afe01",
   "metadata": {},
   "outputs": [
    {
     "data": {
      "text/plain": [
       "Sex\n",
       "female    233\n",
       "male      109\n",
       "Name: Survived, dtype: int64"
      ]
     },
     "execution_count": 6,
     "metadata": {},
     "output_type": "execute_result"
    }
   ],
   "source": [
    "survival_rates = df.groupby(\"Sex\")[\"Survived\"].sum()\n",
    "survival_rates"
   ]
  },
  {
   "cell_type": "code",
   "execution_count": 158,
   "id": "db7def2f",
   "metadata": {},
   "outputs": [
    {
     "data": {
      "text/html": [
       "<div>\n",
       "<style scoped>\n",
       "    .dataframe tbody tr th:only-of-type {\n",
       "        vertical-align: middle;\n",
       "    }\n",
       "\n",
       "    .dataframe tbody tr th {\n",
       "        vertical-align: top;\n",
       "    }\n",
       "\n",
       "    .dataframe thead th {\n",
       "        text-align: right;\n",
       "    }\n",
       "</style>\n",
       "<table border=\"1\" class=\"dataframe\">\n",
       "  <thead>\n",
       "    <tr style=\"text-align: right;\">\n",
       "      <th></th>\n",
       "      <th>count</th>\n",
       "      <th>sum</th>\n",
       "      <th>mean</th>\n",
       "    </tr>\n",
       "    <tr>\n",
       "      <th>Sex</th>\n",
       "      <th></th>\n",
       "      <th></th>\n",
       "      <th></th>\n",
       "    </tr>\n",
       "  </thead>\n",
       "  <tbody>\n",
       "    <tr>\n",
       "      <th>female</th>\n",
       "      <td>314</td>\n",
       "      <td>233</td>\n",
       "      <td>0.742038</td>\n",
       "    </tr>\n",
       "    <tr>\n",
       "      <th>male</th>\n",
       "      <td>577</td>\n",
       "      <td>109</td>\n",
       "      <td>0.188908</td>\n",
       "    </tr>\n",
       "  </tbody>\n",
       "</table>\n",
       "</div>"
      ],
      "text/plain": [
       "        count  sum      mean\n",
       "Sex                         \n",
       "female    314  233  0.742038\n",
       "male      577  109  0.188908"
      ]
     },
     "execution_count": 158,
     "metadata": {},
     "output_type": "execute_result"
    }
   ],
   "source": [
    "# Erläuterung:\n",
    "# count: Anzahl der Personen des jeweiligen Geschlechtes\n",
    "# sum: Anzahl der Personen des jeweiligen Geschlechtes, die tatsächlich überlebt haben (0 1 0 1 0 0 0 1...).sum() = 3\n",
    "# mean: (0 + 1 + 0 + 1 + 0 + 0 + 0 + 1) / 8 = 0.375\n",
    "# 0,375 * 100 = 37,5% \n",
    "\n",
    "df.groupby(\"Sex\")[\"Survived\"].agg(['count', 'sum', 'mean'])"
   ]
  },
  {
   "cell_type": "markdown",
   "id": "ff55daf2",
   "metadata": {},
   "source": [
    "**Überlegungen**: Es heißt, dass Frauen eine höhere Überlebensrate als Männer hatten. In der bisherigen Analyse wurde das Alter jedoch nicht berücksichtigt. Streng genommen müsste man Kinder und Jugendliche (Alter ≤ 18) herausfiltern. Allerdings enthält die Spalte 'Age' viele fehlende Werte, was die Aussagekraft der Analyse einschränkt."
   ]
  },
  {
   "cell_type": "markdown",
   "id": "8879fc63",
   "metadata": {},
   "source": [
    "### 2.2 Test \"Passagiere der ersten Klasse hatten eine höhere Überlebenswahrscheinlichkeit als die der dritten Klasse.\""
   ]
  },
  {
   "cell_type": "code",
   "execution_count": 161,
   "id": "7a920645",
   "metadata": {},
   "outputs": [
    {
     "data": {
      "text/plain": [
       "array([3, 1, 2], dtype=int64)"
      ]
     },
     "execution_count": 161,
     "metadata": {},
     "output_type": "execute_result"
    }
   ],
   "source": [
    "df['Pclass'].unique()"
   ]
  },
  {
   "cell_type": "code",
   "execution_count": 67,
   "id": "d4a93c2c",
   "metadata": {},
   "outputs": [
    {
     "data": {
      "image/png": "[encoded data removed]",
      "text/plain": [
       "<Figure size 600x400 with 1 Axes>"
      ]
     },
     "metadata": {},
     "output_type": "display_data"
    }
   ],
   "source": [
    "survival_rates_pclass = df.groupby(\"Pclass\")[\"Survived\"].mean()\n",
    "survival_rates_pclass_percentage = (survival_rates_pclass * 100).round(2)\n",
    "\n",
    "plt.figure(figsize=(6, 4))\n",
    "plt.bar(survival_rates_pclass_percentage.index, survival_rates_pclass_percentage.values, color=[\"lightgreen\", \"gold\", \"silver\"])\n",
    "plt.xlabel(\"Passagierklasse\")\n",
    "plt.xticks([1, 2, 3], [\"1\", \"2\", \"3\"])\n",
    "\n",
    "plt.ylabel(\"Überlebensrate [%]\")\n",
    "plt.title(\"Überlebensrate nach Passagierklasse\")\n",
    "plt.show()"
   ]
  },
  {
   "cell_type": "markdown",
   "id": "90f3c9b1",
   "metadata": {},
   "source": [
    "### 2.3 Test \"Jüngere Passagiere hatten eine höhere Überlebenschance.\""
   ]
  },
  {
   "cell_type": "markdown",
   "id": "40af95c2",
   "metadata": {},
   "source": [
    "**Hinweis**: Ergebnisse sind mit Vorsicht zu genießen, da viele Werte bei \"Age\" fehlen!\n",
    "\n",
    "Variante 1: Korrelation negativ, bedeutet: Wenn das Alter steigt, sinkt die Überlebenswahrscheinlichkeit."
   ]
  },
  {
   "cell_type": "code",
   "execution_count": 74,
   "id": "14321cea",
   "metadata": {},
   "outputs": [
    {
     "data": {
      "text/plain": [
       "-0.07722109457217759"
      ]
     },
     "execution_count": 74,
     "metadata": {},
     "output_type": "execute_result"
    }
   ],
   "source": [
    "correlation = df[[\"Age\", \"Survived\"]].corr().iloc[0,1]\n",
    "correlation"
   ]
  },
  {
   "cell_type": "markdown",
   "id": "33bab258",
   "metadata": {},
   "source": [
    "Variante 2: Die Überlebenden sind im Durchschnitt jünger."
   ]
  },
  {
   "cell_type": "code",
   "execution_count": 117,
   "id": "55d5c8bc",
   "metadata": {},
   "outputs": [
    {
     "data": {
      "text/plain": [
       "Survived\n",
       "0    30.626179\n",
       "1    28.343690\n",
       "Name: Age, dtype: float64"
      ]
     },
     "execution_count": 117,
     "metadata": {},
     "output_type": "execute_result"
    }
   ],
   "source": [
    "df.groupby(\"Survived\")[\"Age\"].mean()"
   ]
  },
  {
   "cell_type": "markdown",
   "id": "fd8fe282",
   "metadata": {},
   "source": [
    "Variante 3: Mit `pd.cut` kann man numerische Variablen in sog. *bins* unterteilen (Quelle: https://pandas.pydata.org/docs/reference/api/pandas.cut.html)."
   ]
  },
  {
   "cell_type": "code",
   "execution_count": 162,
   "id": "cb76cd5d",
   "metadata": {},
   "outputs": [
    {
     "data": {
      "text/plain": [
       "count    714.000000\n",
       "mean      29.699118\n",
       "std       14.526497\n",
       "min        0.420000\n",
       "25%       20.125000\n",
       "50%       28.000000\n",
       "75%       38.000000\n",
       "max       80.000000\n",
       "Name: Age, dtype: float64"
      ]
     },
     "execution_count": 162,
     "metadata": {},
     "output_type": "execute_result"
    }
   ],
   "source": [
    "df[\"Age\"].describe()\n",
    "# Die Häfte der Passagiere war zw. 20 und 38 Jahre alt! \n",
    "# 75% der Passagiere waren jünger als 38 Jahre. Interessant! Viele Auswanderer?\n",
    "# Aber: viele Werte fehlen!!!"
   ]
  },
  {
   "cell_type": "code",
   "execution_count": 164,
   "id": "026b3f8a",
   "metadata": {},
   "outputs": [
    {
     "name": "stdout",
     "output_type": "stream",
     "text": [
      "age_groups\n",
      "Kind (0-12)             57.971014\n",
      "Jugendlicher (13-18)    42.857143\n",
      "Erwachsener (19-40)     38.823529\n",
      "Boomer (41-60)          39.062500\n",
      "Senior (60+)            22.727273\n",
      "Name: Survived, dtype: float64\n"
     ]
    }
   ],
   "source": [
    "df[\"age_groups\"] = pd.cut(df[\"Age\"].dropna(), bins=[0, 12, 18, 40, 60, 100],  \n",
    "                        labels=[\"Kind (0-12)\", \"Jugendlicher (13-18)\", \"Erwachsener (19-40)\", \"Boomer (41-60)\", \"Senior (60+)\"])\n",
    "\n",
    "survival_rates_age = df.groupby(\"age_groups\")[\"Survived\"].mean() * 100\n",
    "print(survival_rates_age)\n",
    "\n",
    "#del(df[\"age_groups\"])"
   ]
  },
  {
   "cell_type": "code",
   "execution_count": 140,
   "id": "429e406d",
   "metadata": {},
   "outputs": [
    {
     "data": {
      "image/png": "[encoded data removed]",
      "text/plain": [
       "<Figure size 640x480 with 1 Axes>"
      ]
     },
     "metadata": {},
     "output_type": "display_data"
    }
   ],
   "source": [
    "plt.bar(survival_rates_age.index, survival_rates_age.values, color=\"skyblue\", edgecolor=\"black\")\n",
    "\n",
    "plt.xlabel(\"Altersgruppen\")\n",
    "plt.ylabel(\"Überlebensrate [%]\")\n",
    "plt.title(\"Überlebensrate nach Alter\")\n",
    "plt.xticks(rotation=45)\n",
    "plt.ylim(0, 100)\n",
    "\n",
    "plt.show()"
   ]
  },
  {
   "cell_type": "markdown",
   "id": "c332f376",
   "metadata": {},
   "source": [
    "### 2.4 Test \"Der Ticketpreis (Fare) könnte mit der Überlebensrate korrelieren.\" \n",
    "\n",
    "Variante 1: Positiver Wert bedeutetm dass teurere Tickets tendenziell mit höheren Überlebensraten verbunden sind."
   ]
  },
  {
   "cell_type": "code",
   "execution_count": 142,
   "id": "7fa29524",
   "metadata": {},
   "outputs": [
    {
     "data": {
      "text/plain": [
       "0.2573065223849626"
      ]
     },
     "execution_count": 142,
     "metadata": {},
     "output_type": "execute_result"
    }
   ],
   "source": [
    "correlation = df[[\"Fare\", \"Survived\"]].corr().iloc[0, 1]\n",
    "correlation"
   ]
  },
  {
   "cell_type": "markdown",
   "id": "de703f95",
   "metadata": {},
   "source": [
    "Variante 2: Unterteilung in definierte *bins* mit `cut`. "
   ]
  },
  {
   "cell_type": "code",
   "execution_count": 159,
   "id": "38229c7a",
   "metadata": {},
   "outputs": [
    {
     "data": {
      "text/plain": [
       "count    891.000000\n",
       "mean      32.204208\n",
       "std       49.693429\n",
       "min        0.000000\n",
       "25%        7.910400\n",
       "50%       14.454200\n",
       "75%       31.000000\n",
       "max      512.329200\n",
       "Name: Fare, dtype: float64"
      ]
     },
     "execution_count": 159,
     "metadata": {},
     "output_type": "execute_result"
    }
   ],
   "source": [
    "df['Fare'].describe()"
   ]
  },
  {
   "cell_type": "code",
   "execution_count": 148,
   "id": "8138200b",
   "metadata": {},
   "outputs": [
    {
     "data": {
      "image/png": "[encoded data removed]",
      "text/plain": [
       "<Figure size 640x480 with 1 Axes>"
      ]
     },
     "metadata": {},
     "output_type": "display_data"
    }
   ],
   "source": [
    "df[\"FareGroup\"] = pd.cut(df[\"Fare\"], bins=[0, 10, 30, 100, 600], labels=[\"Niedrig\", \"Mittel\", \"Hoch\", \"First\"])\n",
    "\n",
    "survival_rates_fare = df.groupby(\"FareGroup\")[\"Survived\"].mean() * 100\n",
    "\n",
    "plt.bar(survival_rates_fare.index, survival_rates_fare.values, color=\"lightblue\", edgecolor=\"black\")\n",
    "plt.xlabel(\"Ticketpreis-Gruppe\")\n",
    "plt.ylabel(\"Überlebensrate (%)\")\n",
    "plt.title(\"Überlebensrate nach Ticketpreis-Gruppe\")\n",
    "plt.show()\n"
   ]
  },
  {
   "cell_type": "markdown",
   "id": "c526a228",
   "metadata": {},
   "source": [
    "### 2.5 Test \"Passagiere, die alleine reisten, hatten eine geringere Überlebenschance.\""
   ]
  },
  {
   "cell_type": "markdown",
   "id": "97f026dc",
   "metadata": {},
   "source": [
    "Im Titanic-Datensatz gibt es zwei relevante Spalten:\n",
    "\n",
    "- **`SibSp`** (Anzahl der Geschwister/Ehepartner an Bord)\n",
    "- **`Parch`** (Anzahl der Eltern/Kinder an Bord)\n",
    "\n",
    "Wenn ein Passagier keine Familienmitglieder dabei hatte, dann gilt:\n",
    "\n",
    "$$\n",
    "\\text{FamilySize} = \\text{SibSp} + \\text{Parch} = 0\n",
    "$$\n",
    "\n",
    "Diese Passagiere gelten als alleinreisend."
   ]
  },
  {
   "cell_type": "code",
   "execution_count": 176,
   "id": "e96d5a29",
   "metadata": {},
   "outputs": [
    {
     "name": "stdout",
     "output_type": "stream",
     "text": [
      "alone\n",
      "False    50.564972\n",
      "True     30.353818\n",
      "Name: Survived, dtype: float64\n"
     ]
    }
   ],
   "source": [
    "df[\"alone\"] = (df[\"SibSp\"] + df[\"Parch\"] == 0)  # True = alleinreisend, False = mit Familie\n",
    "\n",
    "survival_rates = df.groupby(\"alone\")[\"Survived\"].mean() * 100\n",
    "\n",
    "print(survival_rates)\n",
    "\n",
    "# rund 50% der Passagiere mit Familie haben überlebt\n",
    "# hingegen haben nur rund 30% der Alleinreisenden überlebt"
   ]
  },
  {
   "cell_type": "code",
   "execution_count": 177,
   "id": "aeec3bf3",
   "metadata": {},
   "outputs": [
    {
     "name": "stdout",
     "output_type": "stream",
     "text": [
      "537\n"
     ]
    }
   ],
   "source": [
    "print((df[\"alone\"]==True).sum())\n",
    "\n",
    "del df[\"alone\"]"
   ]
  }
 ],
 "metadata": {
  "kernelspec": {
   "display_name": "Python 3 (ipykernel)",
   "language": "python",
   "name": "python3"
  },
  "language_info": {
   "codemirror_mode": {
    "name": "ipython",
    "version": 3
   },
   "file_extension": ".py",
   "mimetype": "text/x-python",
   "name": "python",
   "nbconvert_exporter": "python",
   "pygments_lexer": "ipython3",
   "version": "3.11.5"
  }
 },
 "nbformat": 4,
 "nbformat_minor": 5
}
